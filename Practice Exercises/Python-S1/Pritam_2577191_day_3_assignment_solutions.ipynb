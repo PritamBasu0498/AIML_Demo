{
 "cells": [
  {
   "cell_type": "code",
   "execution_count": 3,
   "id": "8d8a97d2",
   "metadata": {},
   "outputs": [
    {
     "name": "stdout",
     "output_type": "stream",
     "text": [
      "Empty file has been created.\n"
     ]
    }
   ],
   "source": [
    "with open('sample.txt', 'w') as file:\n",
    "    pass \n",
    "print(\"Empty file has been created.\")"
   ]
  },
  {
   "cell_type": "code",
   "execution_count": 4,
   "id": "ab6b01dd",
   "metadata": {},
   "outputs": [],
   "source": [
    "file.close()"
   ]
  },
  {
   "cell_type": "code",
   "execution_count": 5,
   "id": "ed1dba9b",
   "metadata": {},
   "outputs": [
    {
     "name": "stdout",
     "output_type": "stream",
     "text": [
      "File 'sample.txt' has been created with content.\n"
     ]
    }
   ],
   "source": [
    "file_content = \"\"\"This is a sample text file.\n",
    "It contains some text for demonstration purposes.\n",
    "You can replace this with your own content.\"\"\"\n",
    "file_path = 'sample.txt'  # You can change the file name and path as needed\n",
    "with open(file_path, 'w') as file:\n",
    "    file.write(file_content)\n",
    "\n",
    "print(f\"File '{file_path}' has been created with content.\")"
   ]
  },
  {
   "cell_type": "code",
   "execution_count": 8,
   "id": "179ddbf1",
   "metadata": {},
   "outputs": [
    {
     "data": {
      "text/plain": [
       "False"
      ]
     },
     "execution_count": 8,
     "metadata": {},
     "output_type": "execute_result"
    }
   ],
   "source": [
    "file.readable()"
   ]
  },
  {
   "cell_type": "code",
   "execution_count": 7,
   "id": "0b2d076b",
   "metadata": {},
   "outputs": [],
   "source": [
    "file.close()"
   ]
  },
  {
   "cell_type": "code",
   "execution_count": 9,
   "id": "ea38c7b9",
   "metadata": {},
   "outputs": [
    {
     "data": {
      "text/plain": [
       "False"
      ]
     },
     "execution_count": 9,
     "metadata": {},
     "output_type": "execute_result"
    }
   ],
   "source": [
    "file.readable()"
   ]
  },
  {
   "cell_type": "code",
   "execution_count": 22,
   "id": "d4e20e33",
   "metadata": {},
   "outputs": [
    {
     "ename": "AttributeError",
     "evalue": "'_io.TextIOWrapper' object has no attribute 'open'",
     "output_type": "error",
     "traceback": [
      "\u001b[1;31m---------------------------------------------------------------------------\u001b[0m",
      "\u001b[1;31mAttributeError\u001b[0m                            Traceback (most recent call last)",
      "Cell \u001b[1;32mIn[22], line 1\u001b[0m\n\u001b[1;32m----> 1\u001b[0m file\u001b[38;5;241m.\u001b[39mopen(\u001b[38;5;124m'\u001b[39m\u001b[38;5;124mSample.txt\u001b[39m\u001b[38;5;124m'\u001b[39m,\u001b[38;5;124m'\u001b[39m\u001b[38;5;124mr\u001b[39m\u001b[38;5;124m'\u001b[39m)\n\u001b[0;32m      2\u001b[0m file\u001b[38;5;241m.\u001b[39mread()\n",
      "\u001b[1;31mAttributeError\u001b[0m: '_io.TextIOWrapper' object has no attribute 'open'"
     ]
    }
   ],
   "source": [
    "file.open('Sample.txt','r')\n",
    "file.read()"
   ]
  },
  {
   "cell_type": "markdown",
   "id": "9af9d302",
   "metadata": {},
   "source": [
    "# 1. Write a python function that copies a file reading and writing up to 50 characters at a time."
   ]
  },
  {
   "cell_type": "code",
   "execution_count": 17,
   "id": "3a80cd3a",
   "metadata": {},
   "outputs": [
    {
     "name": "stdout",
     "output_type": "stream",
     "text": [
      "File copied successfully.\n"
     ]
    }
   ],
   "source": [
    "src_file_path = \"sample.txt\"\n",
    "dest_file_path = \"destination.txt\"\n",
    "\n",
    "\n",
    "src_file = open(src_file_path, 'r')\n",
    "dest_file = open(dest_file_path, 'w')\n",
    "\n",
    "while True:\n",
    "    data = src_file.read(50)\n",
    "    if not data:\n",
    "        break  \n",
    "    dest_file.write(data)\n",
    "src_file.close()\n",
    "dest_file.close()\n",
    "\n",
    "print(\"File copied successfully.\")\n"
   ]
  },
  {
   "cell_type": "code",
   "execution_count": 18,
   "id": "2c21f150",
   "metadata": {},
   "outputs": [
    {
     "data": {
      "text/plain": [
       "<_io.TextIOWrapper name='destination.txt' mode='r' encoding='cp1252'>"
      ]
     },
     "execution_count": 18,
     "metadata": {},
     "output_type": "execute_result"
    }
   ],
   "source": [
    "open(\"destination.txt\",\"r\")"
   ]
  },
  {
   "cell_type": "code",
   "execution_count": 19,
   "id": "3866101c",
   "metadata": {},
   "outputs": [
    {
     "data": {
      "text/plain": [
       "['This is a sample text file.\\n',\n",
       " 'It contains some text for demonstration purposes.\\n',\n",
       " 'You can replace this with your own content.']"
      ]
     },
     "execution_count": 19,
     "metadata": {},
     "output_type": "execute_result"
    }
   ],
   "source": [
    "file = open(\"destination.txt\", \"r\")\n",
    "content = file.readlines()\n",
    "content"
   ]
  },
  {
   "cell_type": "markdown",
   "id": "405cd8ab",
   "metadata": {},
   "source": [
    "# 2. Print all numbers present in the text file and print the number of blank spaces in that file."
   ]
  },
  {
   "cell_type": "code",
   "execution_count": 20,
   "id": "b91b1fc7",
   "metadata": {},
   "outputs": [
    {
     "name": "stdout",
     "output_type": "stream",
     "text": [
      "Numbers found in the file: []\n",
      "Number of blank spaces in the file: 20\n"
     ]
    }
   ],
   "source": [
    "def read_file_and_count_numbers(file_path):\n",
    "    file = open(file_path, \"r\")\n",
    "    content = file.read()\n",
    "    file.close()\n",
    "    \n",
    "    numbers = []\n",
    "    blank_space_count = 0\n",
    "    for char in content:\n",
    "        if char.isdigit():\n",
    "            current_number = char if 'current_number' not in locals() else current_number + char\n",
    "        elif 'current_number' in locals():\n",
    "            numbers.append(current_number)\n",
    "            del current_number \n",
    "        elif char.isspace():\n",
    "            blank_space_count += 1\n",
    "\n",
    "    print(\"Numbers found in the file:\", numbers)\n",
    "    print(\"Number of blank spaces in the file:\", blank_space_count)\n",
    "\n",
    "file_path = \"sample.txt\"\n",
    "read_file_and_count_numbers(file_path)\n"
   ]
  },
  {
   "cell_type": "markdown",
   "id": "16dbcbc8",
   "metadata": {},
   "source": [
    "# 3. Write a function called sed that takes as arguments a pattern string, a replacement string,and two filenames; it should read the first file and write the contents into the second file(creating it if necessary). If the pattern string appears anywhere in the file, it should bereplaced with the replacement string. If an error occurs while opening, reading, writing,or closing files, your program should catch the exception, print an error message, andexit."
   ]
  },
  {
   "cell_type": "code",
   "execution_count": 28,
   "id": "c36a03a5",
   "metadata": {},
   "outputs": [
    {
     "name": "stdout",
     "output_type": "stream",
     "text": [
      "File 'sample.txt' processed successfully. Modified content written to 'output.txt'.\n"
     ]
    }
   ],
   "source": [
    "def sed(pattern, replacement, input_filename, output_filename):\n",
    "    try:\n",
    "        # Open the input file for reading\n",
    "        with open(input_filename, 'r') as input_file:\n",
    "            # Read the content from the input file\n",
    "            content = input_file.read()\n",
    "\n",
    "        # Replace the pattern with the replacement string\n",
    "        modified_content = content.replace(pattern, replacement)\n",
    "\n",
    "        # Open the output file for writing (creating it if necessary)\n",
    "        with open(output_filename, 'w') as output_file:\n",
    "            # Write the modified content to the output file\n",
    "            output_file.write(modified_content)\n",
    "\n",
    "        print(f\"File '{input_filename}' processed successfully. Modified content written to '{output_filename}'.\")\n",
    "    except FileNotFoundError:\n",
    "        print(f\"Error: The file '{input_filename}' was not found.\")\n",
    "    except Exception as e:\n",
    "        print(f\"An error occurred: {e}\")\n",
    "\n",
    "# Example usage:\n",
    "pattern = \"sample\"\n",
    "replacement = \"modified\"\n",
    "input_filename = \"sample.txt\"\n",
    "output_filename = \"output.txt\"\n",
    "\n",
    "sed(pattern, replacement, input_filename, output_filename)\n"
   ]
  },
  {
   "cell_type": "code",
   "execution_count": 36,
   "id": "883d292f",
   "metadata": {},
   "outputs": [
    {
     "data": {
      "text/plain": [
       "['This is a sample text file.\\n',\n",
       " 'It contains some text for demonstration purposes.\\n',\n",
       " 'You can replace this with your own content.']"
      ]
     },
     "execution_count": 36,
     "metadata": {},
     "output_type": "execute_result"
    }
   ],
   "source": [
    "file1=open('sample.txt','r')\n",
    "file1.readlines()\n"
   ]
  },
  {
   "cell_type": "markdown",
   "id": "47504adf",
   "metadata": {},
   "source": [
    "# 4. Log File Analysis: You have a log file containing records of user activities on a website.Each line in the file represents a log entry with details like timestamp, user ID, and action performed. Your task is to analyze this log file.\n"
   ]
  },
  {
   "cell_type": "code",
   "execution_count": 37,
   "id": "20934f42",
   "metadata": {},
   "outputs": [
    {
     "name": "stdout",
     "output_type": "stream",
     "text": [
      "Log file 'logfile.txt' created successfully.\n"
     ]
    }
   ],
   "source": [
    "\"\"\"\"a. Write Python code to read the log file and extract specific information, such as the \n",
    "number of unique users or the most common action.\"\"\"\n",
    "\n",
    "#creating a dummy log file\n",
    "log_content = \"\"\"Timestamp,User ID,Action\n",
    "2023-09-13 08:00:00,user1,login\n",
    "2023-09-13 08:05:00,user2,view\n",
    "2023-09-13 08:10:00,user1,click\n",
    "2023-09-13 08:15:00,user3,login\n",
    "2023-09-13 08:20:00,user2,click\n",
    "2023-09-13 08:25:00,user3,click\n",
    "2023-09-13 08:30:00,user1,logout\n",
    "2023-09-13 08:35:00,user2,logout\"\"\"\n",
    "\n",
    "\n",
    "file_path = \"logfile.txt\"\n",
    "with open(file_path, 'w') as file:\n",
    "    file.write(log_content)\n",
    "\n",
    "print(f\"Log file '{file_path}' created successfully.\")\n"
   ]
  },
  {
   "cell_type": "code",
   "execution_count": 38,
   "id": "00c1edb1",
   "metadata": {},
   "outputs": [
    {
     "data": {
      "text/plain": [
       "['Timestamp,User ID,Action\\n',\n",
       " '2023-09-13 08:00:00,user1,login\\n',\n",
       " '2023-09-13 08:05:00,user2,view\\n',\n",
       " '2023-09-13 08:10:00,user1,click\\n',\n",
       " '2023-09-13 08:15:00,user3,login\\n',\n",
       " '2023-09-13 08:20:00,user2,click\\n',\n",
       " '2023-09-13 08:25:00,user3,click\\n',\n",
       " '2023-09-13 08:30:00,user1,logout\\n',\n",
       " '2023-09-13 08:35:00,user2,logout']"
      ]
     },
     "execution_count": 38,
     "metadata": {},
     "output_type": "execute_result"
    }
   ],
   "source": [
    "file=open(\"logfile.txt\",\"r\")\n",
    "file.readlines()"
   ]
  },
  {
   "cell_type": "code",
   "execution_count": 41,
   "id": "d1afd130",
   "metadata": {},
   "outputs": [
    {
     "name": "stdout",
     "output_type": "stream",
     "text": [
      "Number of unique users: 4\n",
      "Most common action: click (Count: 3)\n"
     ]
    }
   ],
   "source": [
    "def analyze_log_file(file_path):\n",
    "    # Open the log file for reading\n",
    "    file = open(file_path, 'r')\n",
    "    \n",
    "    # Initialize variables for analysis\n",
    "    unique_users = set()\n",
    "    action_counts = {}\n",
    "\n",
    "    # Read and process each log entry\n",
    "    for line in file:\n",
    "        parts = line.strip().split(',')  # Assuming CSV-like format\n",
    "        if len(parts) >= 3:\n",
    "            timestamp, user_id, action = parts[0], parts[1], parts[2]\n",
    "            \n",
    "            # Count unique users\n",
    "            unique_users.add(user_id)\n",
    "\n",
    "            # Count action occurrences\n",
    "            if action in action_counts:\n",
    "                action_counts[action] += 1\n",
    "            else:\n",
    "                action_counts[action] = 1\n",
    "\n",
    "    # Close the file\n",
    "    file.close()\n",
    "\n",
    "    print(f\"Number of unique users: {len(unique_users)}\")\n",
    "    most_common_action = max(action_counts, key=action_counts.get)\n",
    "    print(f\"Most common action: {most_common_action} (Count: {action_counts[most_common_action]})\")\n",
    "\n",
    "# Example usage:\n",
    "file_path = \"logfile.txt\"\n",
    "analyze_log_file(file_path)\n",
    "\n"
   ]
  },
  {
   "cell_type": "code",
   "execution_count": null,
   "id": "f3a1c030",
   "metadata": {},
   "outputs": [],
   "source": [
    "\"\"\"\"b. How would you handle large log files efficiently without loading the entire file\n",
    "into memory?\"\"\"\n",
    "\n",
    "b. To handle large log files efficiently without loading the entire file into memory, we can use a streaming approach. \n",
    "Instead of reading the entire file at once, ywe can process each line and you read it, which in turn minimizes memory usage. "
   ]
  },
  {
   "cell_type": "markdown",
   "id": "12f02de7",
   "metadata": {},
   "source": [
    "# 5. Text File Search and Replace: You have a text file with a large amount of text, and you want to search for specific words or phrases and replace them with new content."
   ]
  },
  {
   "cell_type": "code",
   "execution_count": 10,
   "id": "3fe16c77",
   "metadata": {},
   "outputs": [
    {
     "name": "stdout",
     "output_type": "stream",
     "text": [
      "Search and replace operation completed in sample.txt\n"
     ]
    }
   ],
   "source": [
    "#a. Write Python code to search for and replace text within a text file.\n",
    "\n",
    "def search_replace_in_file(file_path, search_text, replace_text):\n",
    "    try:\n",
    "        with open(file_path, 'r') as file:\n",
    "            file_content = file.read()\n",
    "        updated_content = file_content.replace(search_text, replace_text)\n",
    "        with open(file_path, 'w') as file:\n",
    "            file.write(updated_content)\n",
    "        print(f\"Search and replace operation completed in {file_path}\")\n",
    "    except FileNotFoundError:\n",
    "        print(f\"File not found: {file_path}\")\n",
    "\n",
    "file_path = 'sample.txt' \n",
    "search_text = 'old_word'\n",
    "replace_text = 'new_word'\n",
    "search_replace_in_file(file_path, search_text, replace_text)\n"
   ]
  },
  {
   "cell_type": "code",
   "execution_count": null,
   "id": "deb54802",
   "metadata": {},
   "outputs": [],
   "source": [
    "#b. How would you handle cases where you need to perform multiple replacements in a single pass?\n",
    "\n",
    "b. To handle cases where you need to perform multiple replacements in a single pass, you can extend the code by using a dictionary to specify multiple search and replace pairs."
   ]
  },
  {
   "cell_type": "markdown",
   "id": "ae301086",
   "metadata": {},
   "source": [
    "# 6. Write a Python script that concatenates the contents of multiple text files into a single output file. Allow the user to specify the input files and the output file."
   ]
  },
  {
   "cell_type": "code",
   "execution_count": 9,
   "id": "92bb4383",
   "metadata": {},
   "outputs": [
    {
     "name": "stdout",
     "output_type": "stream",
     "text": [
      "Enter the names of input files separated by spaces:\n",
      "sample.txt\n",
      "Enter the path of the output file: E:\\Program Files (x86)\\output.txt\n",
      "Files in the specified path\n"
     ]
    }
   ],
   "source": [
    "def concatenate_files(input_files, output_file):\n",
    "    with open(output_file, 'w') as output:\n",
    "        for input_file in input_files:\n",
    "            try:\n",
    "                with open(input_file, 'r') as file_to_concatenate:\n",
    "                    file_content = file_to_concatenate.read()\n",
    "                    output.write(file_content)\n",
    "                    output.write('\\n') \n",
    "            except FileNotFoundError:\n",
    "                print(f\"File not found: {input_file}\")\n",
    "        print(\"Files in the specified path\")\n",
    "\n",
    "\n",
    "print(\"Enter the names of input files separated by spaces:\")\n",
    "file_names_input = input()\n",
    "input_files = file_names_input.split() \n",
    "\n",
    "if not input_files:\n",
    "    \n",
    "    print(\"No input files provided. Exiting.\")\n",
    "else:\n",
    "    output_file = input(\"Enter the path of the output file: \")\n",
    "    concatenate_files(input_files, output_file)\n"
   ]
  },
  {
   "cell_type": "code",
   "execution_count": null,
   "id": "b849c770",
   "metadata": {},
   "outputs": [],
   "source": []
  },
  {
   "cell_type": "markdown",
   "id": "b9934637",
   "metadata": {},
   "source": [
    "# 8. Assume that you are developing a student gradebook system for a school. The system should allow teachers to input student grades for various subjects, store the data in files, and provide students with the ability to view their grades.\n",
    "\n",
    "Design a Python program that accomplishes the following tasks:\n",
    "\n",
    "i. Teachers should be able to input grades for students in different subjects.\n",
    "\n",
    "ii. Store the student grade data in separate text files for each subject.\n",
    "\n",
    "iii. Students should be able to view their grades for each subject.\n",
    "\n",
    "iv. Implement error handling for file operations, such as file not found or\n",
    "\n",
    "permission issues."
   ]
  },
  {
   "cell_type": "code",
   "execution_count": 11,
   "id": "6ad6ec49",
   "metadata": {},
   "outputs": [
    {
     "name": "stdout",
     "output_type": "stream",
     "text": [
      "\n",
      "Student Gradebook System\n",
      "1. Input Grades (Teachers)\n",
      "2. View Grades (Students)\n",
      "3. Exit\n",
      "Enter your choice: 1\n",
      "Enter student name: Pritam\n",
      "Enter subject name: comp\n",
      "Enter the grade: 78\n",
      "Grades for comp saved successfully.\n",
      "\n",
      "Student Gradebook System\n",
      "1. Input Grades (Teachers)\n",
      "2. View Grades (Students)\n",
      "3. Exit\n",
      "Enter your choice: 1\n",
      "Enter student name: tiyasha\n",
      "Enter subject name: math\n",
      "Enter the grade: 56\n",
      "Grades for math saved successfully.\n",
      "\n",
      "Student Gradebook System\n",
      "1. Input Grades (Teachers)\n",
      "2. View Grades (Students)\n",
      "3. Exit\n",
      "Enter your choice: 2\n",
      "Enter the subject to view grades: comp\n",
      "Grades for comp:\n",
      "Pritam: 78\n",
      "\n",
      "Student Gradebook System\n",
      "1. Input Grades (Teachers)\n",
      "2. View Grades (Students)\n",
      "3. Exit\n",
      "Enter your choice: 3\n"
     ]
    }
   ],
   "source": [
    "import os\n",
    "\n",
    "# Dictionary to store student grades for each subject\n",
    "student_grades = {}\n",
    "\n",
    "def input_grades():\n",
    "    student_name = input(\"Enter student name: \")\n",
    "    subject = input(\"Enter subject name: \")\n",
    "    grade = input(\"Enter the grade: \")\n",
    "\n",
    "    if subject not in student_grades:\n",
    "        student_grades[subject] = {}\n",
    "\n",
    "    student_grades[subject][student_name] = grade\n",
    "    store_grades_in_files(subject, student_grades[subject])\n",
    "\n",
    "def store_grades_in_files(subject, grades):\n",
    "    try:\n",
    "        file_path = f\"{subject}.txt\"\n",
    "        with open(file_path, 'w') as file:\n",
    "            for student, grade in grades.items():\n",
    "                file.write(f\"{student}: {grade}\\n\")\n",
    "        print(f\"Grades for {subject} saved successfully.\")\n",
    "    except Exception as e:\n",
    "        print(f\"Error while storing grades for {subject}: {str(e)}\")\n",
    "\n",
    "def view_grades(subject):\n",
    "    try:\n",
    "        file_path = f\"{subject}.txt\"\n",
    "        with open(file_path, 'r') as file:\n",
    "            print(f\"Grades for {subject}:\")\n",
    "            for line in file:\n",
    "                print(line.strip())\n",
    "    except FileNotFoundError:\n",
    "        print(f\"Error: Grades for {subject} not found.\")\n",
    "    except PermissionError:\n",
    "        print(f\"Error: Permission denied to access {subject} grades.\")\n",
    "\n",
    "while True:\n",
    "    print(\"\\nStudent Gradebook System\")\n",
    "    print(\"1. Input Grades (Teachers)\")\n",
    "    print(\"2. View Grades (Students)\")\n",
    "    print(\"3. Exit\")\n",
    "    choice = input(\"Enter your choice: \")\n",
    "\n",
    "    if choice == \"1\":\n",
    "        input_grades()\n",
    "    elif choice == \"2\":\n",
    "        subject = input(\"Enter the subject to view grades: \")\n",
    "        view_grades(subject)\n",
    "    elif choice == \"3\":\n",
    "        break\n",
    "    else:\n",
    "        print(\"Invalid choice. Please try again.\")\n"
   ]
  },
  {
   "cell_type": "code",
   "execution_count": 12,
   "id": "e6ea1a5f",
   "metadata": {},
   "outputs": [
    {
     "name": "stdout",
     "output_type": "stream",
     "text": [
      "Current Working Directory: C:\\Users\\USER\n"
     ]
    }
   ],
   "source": [
    "import os\n",
    "cwd = os.getcwd()\n",
    "print(\"Current Working Directory:\", cwd)\n"
   ]
  },
  {
   "cell_type": "code",
   "execution_count": 15,
   "id": "8818cd36",
   "metadata": {},
   "outputs": [
    {
     "ename": "KeyError",
     "evalue": "'Mathematics'",
     "output_type": "error",
     "traceback": [
      "\u001b[1;31m---------------------------------------------------------------------------\u001b[0m",
      "\u001b[1;31mKeyError\u001b[0m                                  Traceback (most recent call last)",
      "Cell \u001b[1;32mIn[15], line 2\u001b[0m\n\u001b[0;32m      1\u001b[0m file_path \u001b[38;5;241m=\u001b[39m \u001b[38;5;124m\"\u001b[39m\u001b[38;5;124mC:/Users/User/Mathematics.txt\u001b[39m\u001b[38;5;124m\"\u001b[39m\n\u001b[1;32m----> 2\u001b[0m store_grades_in_files(\u001b[38;5;124m\"\u001b[39m\u001b[38;5;124mMathematics\u001b[39m\u001b[38;5;124m\"\u001b[39m, student_grades[\u001b[38;5;124m\"\u001b[39m\u001b[38;5;124mMathematics\u001b[39m\u001b[38;5;124m\"\u001b[39m], file_path)\n",
      "\u001b[1;31mKeyError\u001b[0m: 'Mathematics'"
     ]
    }
   ],
   "source": [
    "file_path = \"C:/Users/User/Mathematics.txt\"\n",
    "store_grades_in_files(\"Mathematics\", student_grades[\"Mathematics\"], file_path)\n"
   ]
  },
  {
   "cell_type": "code",
   "execution_count": null,
   "id": "e1e01e59",
   "metadata": {},
   "outputs": [],
   "source": []
  }
 ],
 "metadata": {
  "kernelspec": {
   "display_name": "Python 3 (ipykernel)",
   "language": "python",
   "name": "python3"
  },
  "language_info": {
   "codemirror_mode": {
    "name": "ipython",
    "version": 3
   },
   "file_extension": ".py",
   "mimetype": "text/x-python",
   "name": "python",
   "nbconvert_exporter": "python",
   "pygments_lexer": "ipython3",
   "version": "3.11.4"
  }
 },
 "nbformat": 4,
 "nbformat_minor": 5
}
