{
 "cells": [
  {
   "cell_type": "markdown",
   "id": "80386abf",
   "metadata": {},
   "source": [
    "# 1. Manipulate using a list.\n",
    "\n",
    "i) To add new elements to the end of the list\n",
    "\n",
    "ii) To reverse elements in the list\n",
    "\n",
    "iii) To display the same list of elements multiple times.\n",
    "\n",
    "iv) To concatenate two list\n",
    "\n",
    "v) To sort the elements in the list in ascending order."
   ]
  },
  {
   "cell_type": "code",
   "execution_count": 11,
   "id": "15ffcda4",
   "metadata": {},
   "outputs": [
    {
     "name": "stdout",
     "output_type": "stream",
     "text": [
      "Added elements in [1, 2, 3, 4]\n"
     ]
    }
   ],
   "source": [
    "#To add new elements to the end of the list\n",
    "\n",
    "myList = [1, 2, 3]\n",
    "myList.append(4)\n",
    "print(\"Added elements in {}\".format(myList))\n"
   ]
  },
  {
   "cell_type": "code",
   "execution_count": 7,
   "id": "69bb71f1",
   "metadata": {},
   "outputs": [
    {
     "name": "stdout",
     "output_type": "stream",
     "text": [
      "Reversed list is :  [6, 5, 4, 3, 2, 1]\n"
     ]
    }
   ],
   "source": [
    "#To reverse elements in the list\n",
    "\n",
    "myList = [1,2,3,4,5,6]\n",
    "myList.reverse()\n",
    "print(\"Reversed list is : \", myList)"
   ]
  },
  {
   "cell_type": "code",
   "execution_count": 10,
   "id": "180cdb78",
   "metadata": {},
   "outputs": [
    {
     "name": "stdout",
     "output_type": "stream",
     "text": [
      "[1, 2, 3, 1, 2, 3, 1, 2, 3]\n",
      "[1, 2, 3]\n",
      "[1, 2, 3]\n",
      "[1, 2, 3]\n"
     ]
    }
   ],
   "source": [
    "#Todisplay the same list of elements multiple times\n",
    "\n",
    "myList = [1,2,3]\n",
    "repeat = 3\n",
    "\n",
    "newList = myList * repeat\n",
    "print(newList)\n",
    "\n",
    "for i in range(repeat):\n",
    "    print(myList)"
   ]
  },
  {
   "cell_type": "code",
   "execution_count": 13,
   "id": "8acabea3",
   "metadata": {},
   "outputs": [
    {
     "name": "stdout",
     "output_type": "stream",
     "text": [
      "Added list:  [1, 2, 3, 4, 5, 6]\n"
     ]
    }
   ],
   "source": [
    "#To concatenate two list\n",
    "\n",
    "list1 = [1, 2, 3]\n",
    "list2 = [4, 5, 6]\n",
    "list1.extend(list2)\n",
    "print(\"Added list: \", list1)\n"
   ]
  },
  {
   "cell_type": "code",
   "execution_count": 14,
   "id": "c6a2d32c",
   "metadata": {},
   "outputs": [
    {
     "name": "stdout",
     "output_type": "stream",
     "text": [
      "Sorted list: [1, 3, 4, 5, 26, 51, 69, 90, 92, 100, 390]\n"
     ]
    }
   ],
   "source": [
    "#To sort the elements in the list in ascending order.\n",
    "\n",
    "my_list = [390, 100, 4, 1, 5, 92, 26, 69, 51, 3, 90]\n",
    "my_list.sort()\n",
    "print(\"Sorted list:\", my_list)\n"
   ]
  },
  {
   "cell_type": "markdown",
   "id": "518e1b1d",
   "metadata": {},
   "source": [
    "# 2. Write a Python program to do in the tuples.\n",
    "\n",
    "i) Manipulate using tuples.\n",
    "\n",
    "ii) To add new elements to the end of the tuples\n",
    "\n",
    "iii) To reverse elements in the list\n",
    "\n",
    "iv) To display the elements of the same tuple multiple times.\n",
    "\n",
    "v) To concatenate two tuples\n",
    "\n",
    "vi) To sort the elements in the list in ascending order."
   ]
  },
  {
   "cell_type": "code",
   "execution_count": null,
   "id": "c0023dce",
   "metadata": {},
   "outputs": [],
   "source": [
    "#i) Manipulate using tuples.\n",
    "\n",
    "#Tuples are similar to lists in Python but are immutable, meaning we cannot modify their elements once they are created.\n"
   ]
  },
  {
   "cell_type": "code",
   "execution_count": 15,
   "id": "32cf3f10",
   "metadata": {},
   "outputs": [
    {
     "name": "stdout",
     "output_type": "stream",
     "text": [
      "Original Tuple: (1, 2, 3)\n",
      "Extended Tuple: (1, 2, 3, 4, 5, 6)\n"
     ]
    }
   ],
   "source": [
    "#ii) To add new elements to the end of the tuples\n",
    "\n",
    "my_tuple = (1, 2, 3)\n",
    "new_elements = (4, 5, 6)\n",
    "extended_tuple = my_tuple + new_elements\n",
    "\n",
    "print(\"Original Tuple:\", my_tuple)\n",
    "print(\"Extended Tuple:\", extended_tuple)\n"
   ]
  },
  {
   "cell_type": "code",
   "execution_count": 16,
   "id": "4811e215",
   "metadata": {},
   "outputs": [
    {
     "name": "stdout",
     "output_type": "stream",
     "text": [
      "Reversed list: [5, 4, 3, 2, 1]\n"
     ]
    }
   ],
   "source": [
    "#To reverse elements in the list\n",
    "\n",
    "my_list = [1, 2, 3, 4, 5]\n",
    "my_list.reverse()\n",
    "print(\"Reversed list:\", my_list)\n"
   ]
  },
  {
   "cell_type": "code",
   "execution_count": 18,
   "id": "127ae3c0",
   "metadata": {},
   "outputs": [
    {
     "name": "stdout",
     "output_type": "stream",
     "text": [
      "Elements of the tuple: (1, 2, 3)\n",
      "Elements of the tuple: (1, 2, 3)\n",
      "Elements of the tuple: (1, 2, 3)\n"
     ]
    }
   ],
   "source": [
    "#To display the elements of the same tuple multiple times.\n",
    "\n",
    "myTuple = (1, 2, 3)\n",
    "repeat = 3\n",
    "\n",
    "for i in range(repeat):\n",
    "    print(\"Elements of the tuple:\", myTuple)\n"
   ]
  },
  {
   "cell_type": "code",
   "execution_count": 17,
   "id": "110faddb",
   "metadata": {},
   "outputs": [
    {
     "name": "stdout",
     "output_type": "stream",
     "text": [
      "Concatenated Tuple: (1, 2, 3, 4, 5, 6)\n"
     ]
    }
   ],
   "source": [
    "#To concatenate two tuples\n",
    "\n",
    "tuple1 = (1, 2, 3)\n",
    "tuple2 = (4, 5, 6)\n",
    "concatenated_tuple = tuple1 + tuple2\n",
    "print(\"Concatenated Tuple:\", concatenated_tuple)\n"
   ]
  },
  {
   "cell_type": "code",
   "execution_count": 19,
   "id": "b5f5cd67",
   "metadata": {},
   "outputs": [
    {
     "name": "stdout",
     "output_type": "stream",
     "text": [
      "Sorted list: [3, 10, 14, 57, 61]\n"
     ]
    }
   ],
   "source": [
    "#To sort the elements in the list in ascending order.\n",
    "\n",
    "myList = [3, 10, 14, 61, 57]\n",
    "myList.sort()\n",
    "print(\"Sorted list:\", myList)\n"
   ]
  },
  {
   "cell_type": "markdown",
   "id": "e03983ec",
   "metadata": {},
   "source": [
    "# 3. Write a python program to implement the following using list.\n",
    "\n",
    "i) Create a list with integers (minimum 10 numbers)\n",
    "\n",
    "ii) How to display the last number in the list\n",
    "\n",
    "iii) Command for displaying the values from the list [0:4]\n",
    "\n",
    "iv) Command for displaying the values from the list [2:]\n",
    "\n",
    "v) Command for displaying the values from the list[:6]"
   ]
  },
  {
   "cell_type": "code",
   "execution_count": 20,
   "id": "d003e528",
   "metadata": {},
   "outputs": [
    {
     "data": {
      "text/plain": [
       "[1, 2, 3, 4, 5, 6, 7, 8, 9, 10]"
      ]
     },
     "execution_count": 20,
     "metadata": {},
     "output_type": "execute_result"
    }
   ],
   "source": [
    "#Create a list with integers (minimum 10 numbers)\n",
    "\n",
    "myList = [1, 2, 3, 4, 5, 6, 7, 8, 9, 10]\n",
    "myList"
   ]
  },
  {
   "cell_type": "code",
   "execution_count": 22,
   "id": "cd19aec1",
   "metadata": {},
   "outputs": [
    {
     "data": {
      "text/plain": [
       "10"
      ]
     },
     "execution_count": 22,
     "metadata": {},
     "output_type": "execute_result"
    }
   ],
   "source": [
    "#How to display the last number in the list\n",
    "\n",
    "myList = [1, 2, 3, 4, 5, 6, 7, 8, 9, 10]\n",
    "lastNum = myList[-1]\n",
    "lastNum\n"
   ]
  },
  {
   "cell_type": "code",
   "execution_count": 23,
   "id": "14171742",
   "metadata": {},
   "outputs": [
    {
     "data": {
      "text/plain": [
       "[1, 2, 3, 4]"
      ]
     },
     "execution_count": 23,
     "metadata": {},
     "output_type": "execute_result"
    }
   ],
   "source": [
    "#Command for displaying the values from the list [0:4]\n",
    "\n",
    "myList[0:4]"
   ]
  },
  {
   "cell_type": "code",
   "execution_count": 24,
   "id": "2b9e6d04",
   "metadata": {},
   "outputs": [
    {
     "data": {
      "text/plain": [
       "[3, 4, 5, 6, 7, 8, 9, 10]"
      ]
     },
     "execution_count": 24,
     "metadata": {},
     "output_type": "execute_result"
    }
   ],
   "source": [
    "#Command for displaying the values from the list [2:]\n",
    "\n",
    "myList[2:]"
   ]
  },
  {
   "cell_type": "code",
   "execution_count": 25,
   "id": "04260443",
   "metadata": {},
   "outputs": [
    {
     "data": {
      "text/plain": [
       "[1, 2, 3, 4, 5, 6]"
      ]
     },
     "execution_count": 25,
     "metadata": {},
     "output_type": "execute_result"
    }
   ],
   "source": [
    "#Command for displaying the values from the list[:6]\n",
    "\n",
    "myList[:6]"
   ]
  },
  {
   "cell_type": "markdown",
   "id": "35d42be4",
   "metadata": {},
   "source": [
    "# 4. Write a Python program: tuple1 = (10,50,20,40,30)\n",
    "\n",
    "i. To display the elements 10 and 50 from tuple1\n",
    "\n",
    "ii. To display the length of a tuple1.\n",
    "\n",
    "iii. To find the minimum element from tuple1.\n",
    "\n",
    "iv. To add all elements in the tuple1.\n",
    "\n",
    "v. To display the same tuple1 multiple times."
   ]
  },
  {
   "cell_type": "code",
   "execution_count": 29,
   "id": "eea5310f",
   "metadata": {},
   "outputs": [
    {
     "name": "stdout",
     "output_type": "stream",
     "text": [
      "10\n",
      "50\n",
      "20\n",
      "40\n",
      "30\n"
     ]
    }
   ],
   "source": [
    "#To display the elements 10 and 50 from tuple1\n",
    "\n",
    "tuple1 = (10,50,20,40,30)\n",
    "\n",
    "for element in tuple1:\n",
    "    print(element)\n"
   ]
  },
  {
   "cell_type": "code",
   "execution_count": 32,
   "id": "00feb299",
   "metadata": {},
   "outputs": [
    {
     "data": {
      "text/plain": [
       "5"
      ]
     },
     "execution_count": 32,
     "metadata": {},
     "output_type": "execute_result"
    }
   ],
   "source": [
    "#To display the length of a tuple1.\n",
    "\n",
    "length = len(tuple1)\n",
    "length"
   ]
  },
  {
   "cell_type": "code",
   "execution_count": 33,
   "id": "cf0af103",
   "metadata": {},
   "outputs": [
    {
     "data": {
      "text/plain": [
       "10"
      ]
     },
     "execution_count": 33,
     "metadata": {},
     "output_type": "execute_result"
    }
   ],
   "source": [
    "#To find the minimum element from tuple1.\n",
    "\n",
    "minElement = min(tuple1)\n",
    "minElement"
   ]
  },
  {
   "cell_type": "code",
   "execution_count": 47,
   "id": "a7e4ec70",
   "metadata": {},
   "outputs": [
    {
     "data": {
      "text/plain": [
       "150"
      ]
     },
     "execution_count": 47,
     "metadata": {},
     "output_type": "execute_result"
    }
   ],
   "source": [
    "#To add all elements in the tuple1.\n",
    "\n",
    "totSum=0\n",
    "for element in tuple1:\n",
    "    totSum+=element\n",
    "totSum\n"
   ]
  },
  {
   "cell_type": "code",
   "execution_count": 48,
   "id": "adaeaee9",
   "metadata": {},
   "outputs": [
    {
     "name": "stdout",
     "output_type": "stream",
     "text": [
      "Elements of the tuple: (10, 50, 20, 40, 30)\n",
      "Elements of the tuple: (10, 50, 20, 40, 30)\n",
      "Elements of the tuple: (10, 50, 20, 40, 30)\n"
     ]
    }
   ],
   "source": [
    "#To display the same tuple1 multiple times.\n",
    "\n",
    "repeat = 3\n",
    "\n",
    "for i in range(repeat):\n",
    "    print(\"Elements of the tuple:\", tuple1)\n"
   ]
  },
  {
   "cell_type": "markdown",
   "id": "354a00c1",
   "metadata": {},
   "source": [
    "# 5. Write a Python program:\n",
    "\n",
    "i. To calculate the length of a string\n",
    "\n",
    "ii. To reverse words in a string\n",
    "\n",
    "iii. To display the same string multiple times\n",
    "\n",
    "iv. To concatenate two strings\n",
    "\n",
    "v. Str1=” South India”, using string slicing to display “India”"
   ]
  },
  {
   "cell_type": "code",
   "execution_count": 50,
   "id": "e9da2625",
   "metadata": {},
   "outputs": [
    {
     "data": {
      "text/plain": [
       "13"
      ]
     },
     "execution_count": 50,
     "metadata": {},
     "output_type": "execute_result"
    }
   ],
   "source": [
    "myString = \"Hello, World!\"\n",
    "length = len(myString)\n",
    "length\n"
   ]
  },
  {
   "cell_type": "code",
   "execution_count": 55,
   "id": "4870c955",
   "metadata": {},
   "outputs": [
    {
     "data": {
      "text/plain": [
       "'World! Hello,'"
      ]
     },
     "execution_count": 55,
     "metadata": {},
     "output_type": "execute_result"
    }
   ],
   "source": [
    "myString = \"Hello, World!\"\n",
    "words = myString.split()\n",
    "reversedString = ' '.join(reversed(words))\n",
    "reversedString"
   ]
  },
  {
   "cell_type": "code",
   "execution_count": 56,
   "id": "a16d2066",
   "metadata": {},
   "outputs": [
    {
     "name": "stdout",
     "output_type": "stream",
     "text": [
      "Hello, World!\n",
      "Hello, World!\n",
      "Hello, World!\n"
     ]
    }
   ],
   "source": [
    "repeat = 3\n",
    "for i in range(repeat):\n",
    "    print(myString)\n"
   ]
  },
  {
   "cell_type": "code",
   "execution_count": 58,
   "id": "9e545cfe",
   "metadata": {},
   "outputs": [
    {
     "data": {
      "text/plain": [
       "'Hello, World!'"
      ]
     },
     "execution_count": 58,
     "metadata": {},
     "output_type": "execute_result"
    }
   ],
   "source": [
    "string1 = \"Hello, \"\n",
    "string2 = \"World!\"\n",
    "concatenatedString = string1 + string2\n",
    "concatenatedString\n"
   ]
  },
  {
   "cell_type": "code",
   "execution_count": 66,
   "id": "1a0c9bb9",
   "metadata": {},
   "outputs": [
    {
     "data": {
      "text/plain": [
       "'India'"
      ]
     },
     "execution_count": 66,
     "metadata": {},
     "output_type": "execute_result"
    }
   ],
   "source": [
    "Str1 = \" South India\"\n",
    "Str2 = Str1[7:]\n",
    "Str2\n"
   ]
  },
  {
   "cell_type": "markdown",
   "id": "c6917b1c",
   "metadata": {},
   "source": [
    "# 6. Perform the following:\n",
    "\n",
    "i) Creating the Dictionary.\n",
    "\n",
    "ii) Accessing values and keys in the Dictionary.\n",
    "\n",
    "iii) Updating the dictionary using a function.\n",
    "\n",
    "iv) Clear and delete the dictionary values."
   ]
  },
  {
   "cell_type": "code",
   "execution_count": 8,
   "id": "1a8f336c",
   "metadata": {},
   "outputs": [
    {
     "data": {
      "text/plain": [
       "{'name': 'John', 'age': 30, 'city': 'New York'}"
      ]
     },
     "execution_count": 8,
     "metadata": {},
     "output_type": "execute_result"
    }
   ],
   "source": [
    "#i) Creating the Dictionary.\n",
    "\n",
    "myDict = {'name': 'John', 'age': 30, 'city': 'New York'}\n",
    "myDict"
   ]
  },
  {
   "cell_type": "code",
   "execution_count": 15,
   "id": "25c59ac9",
   "metadata": {},
   "outputs": [
    {
     "name": "stdout",
     "output_type": "stream",
     "text": [
      "name age city \n",
      "Rajesh 30 Pune "
     ]
    }
   ],
   "source": [
    "#ii) Accessing values and keys in the Dictionary.\n",
    "\n",
    "myDictNew = {'name': 'Rajesh', 'age': 30, 'city': 'Pune'}\n",
    "for key in my_dict:\n",
    "    print(key, end=' ')\n",
    "print()  \n",
    "for value in myDictNew.values():\n",
    "    print(value, end=' ')\n",
    "\n"
   ]
  },
  {
   "cell_type": "code",
   "execution_count": 17,
   "id": "5cdd1bf8",
   "metadata": {},
   "outputs": [
    {
     "data": {
      "text/plain": [
       "{'name': 'Ron', 'age': 31, 'city': 'Seattle', 'new_key': 'new_value'}"
      ]
     },
     "execution_count": 17,
     "metadata": {},
     "output_type": "execute_result"
    }
   ],
   "source": [
    "#iii) Updating the dictionary using a function.\n",
    "\n",
    "Dict = {'name': 'Ron', 'age': 23, 'city': 'Seattle'}\n",
    "Dict['new_key'] = 'new_value'\n",
    "Dict['age'] = 31 \n",
    "\n",
    "Dict\n"
   ]
  },
  {
   "cell_type": "code",
   "execution_count": 20,
   "id": "643a1c05",
   "metadata": {},
   "outputs": [
    {
     "data": {
      "text/plain": [
       "{}"
      ]
     },
     "execution_count": 20,
     "metadata": {},
     "output_type": "execute_result"
    }
   ],
   "source": [
    "#iv) Clear and delete the dictionary values.\n",
    "\n",
    "Dict1 = {'name': 'Harry', 'age': 50, 'city': 'Sussex'}\n",
    "Dict1.clear()\n",
    "Dict1\n"
   ]
  },
  {
   "cell_type": "markdown",
   "id": "19b7ace4",
   "metadata": {},
   "source": [
    "# 7. Python program to insert a number to any position in a list."
   ]
  },
  {
   "cell_type": "code",
   "execution_count": 7,
   "id": "3326cc84",
   "metadata": {},
   "outputs": [
    {
     "name": "stdout",
     "output_type": "stream",
     "text": [
      "Updated List: [1, 2, 3, 5, 6]\n"
     ]
    }
   ],
   "source": [
    "myList = [1, 2, 3, 5, 6]\n",
    "Number = 4\n",
    "position = 3  # The position where you want to insert the number\n",
    "\n",
    "my_list.insert(position,number)\n",
    "print(\"Updated List:\", myList)\n"
   ]
  },
  {
   "cell_type": "markdown",
   "id": "f223c545",
   "metadata": {},
   "source": [
    "# 8. Python program to delete an element from a list by index."
   ]
  },
  {
   "cell_type": "code",
   "execution_count": 6,
   "id": "2358b884",
   "metadata": {},
   "outputs": [
    {
     "name": "stdout",
     "output_type": "stream",
     "text": [
      "Updated List: [1, 2, 4, 5]\n"
     ]
    }
   ],
   "source": [
    "myList = [1, 2, 3, 4, 5]\n",
    "deletedIndex = 2  \n",
    "\n",
    "if 0 <= deletedIndex < len(myList):\n",
    "    del myList[deletedIndex]\n",
    "    print(\"Updated List:\", myList)\n",
    "else:\n",
    "    print(\"Index is out of range\")\n"
   ]
  },
  {
   "cell_type": "markdown",
   "id": "0ef091e7",
   "metadata": {},
   "source": [
    "# 9. Write a program to display a number from 1 to 100."
   ]
  },
  {
   "cell_type": "code",
   "execution_count": 3,
   "id": "e29e3b9f",
   "metadata": {},
   "outputs": [
    {
     "name": "stdout",
     "output_type": "stream",
     "text": [
      "1\n",
      "2\n",
      "3\n",
      "4\n",
      "5\n",
      "6\n",
      "7\n",
      "8\n",
      "9\n",
      "10\n",
      "11\n",
      "12\n",
      "13\n",
      "14\n",
      "15\n",
      "16\n",
      "17\n",
      "18\n",
      "19\n",
      "20\n",
      "21\n",
      "22\n",
      "23\n",
      "24\n",
      "25\n",
      "26\n",
      "27\n",
      "28\n",
      "29\n",
      "30\n",
      "31\n",
      "32\n",
      "33\n",
      "34\n",
      "35\n",
      "36\n",
      "37\n",
      "38\n",
      "39\n",
      "40\n",
      "41\n",
      "42\n",
      "43\n",
      "44\n",
      "45\n",
      "46\n",
      "47\n",
      "48\n",
      "49\n",
      "50\n",
      "51\n",
      "52\n",
      "53\n",
      "54\n",
      "55\n",
      "56\n",
      "57\n",
      "58\n",
      "59\n",
      "60\n",
      "61\n",
      "62\n",
      "63\n",
      "64\n",
      "65\n",
      "66\n",
      "67\n",
      "68\n",
      "69\n",
      "70\n",
      "71\n",
      "72\n",
      "73\n",
      "74\n",
      "75\n",
      "76\n",
      "77\n",
      "78\n",
      "79\n",
      "80\n",
      "81\n",
      "82\n",
      "83\n",
      "84\n",
      "85\n",
      "86\n",
      "87\n",
      "88\n",
      "89\n",
      "90\n",
      "91\n",
      "92\n",
      "93\n",
      "94\n",
      "95\n",
      "96\n",
      "97\n",
      "98\n",
      "99\n",
      "100\n"
     ]
    }
   ],
   "source": [
    "for number in range(1, 101):\n",
    "    print(number)\n"
   ]
  },
  {
   "cell_type": "markdown",
   "id": "85dcc7df",
   "metadata": {},
   "source": [
    "# 10. Write a Python program to find the sum of all items in a tuple"
   ]
  },
  {
   "cell_type": "code",
   "execution_count": 5,
   "id": "bccda123",
   "metadata": {},
   "outputs": [
    {
     "name": "stdout",
     "output_type": "stream",
     "text": [
      "Sum of all items in the tuple: 15\n"
     ]
    }
   ],
   "source": [
    "myTuple = (1, 2, 3, 4, 5)\n",
    "\n",
    "totalSum = 0  \n",
    "\n",
    "for item in myTuple:\n",
    "    totalSum += item\n",
    "\n",
    "print(\"Sum of all items in the tuple:\", totalSum)\n"
   ]
  },
  {
   "cell_type": "markdown",
   "id": "40b4c44f",
   "metadata": {},
   "source": [
    "# 11. Create a dictionary containing three lambda functions square, cube and square root.\n",
    "i) E.g. dict = {'Square': function for squaring, 'Cube': function for cube, 'Squareroot':\n",
    "function for square root}\n",
    "ii) Pass the values (input from the user) to the functions in the dictionary respectively.\n",
    "iii) Then add the outputs of each function and print it."
   ]
  },
  {
   "cell_type": "code",
   "execution_count": 22,
   "id": "fa2edbb5",
   "metadata": {},
   "outputs": [
    {
     "name": "stdout",
     "output_type": "stream",
     "text": [
      "Enter a number: 3\n",
      "Square of 3.0 is 9.0\n",
      "Cube of 3.0 is 27.0\n",
      "Square Root of 3.0 is 1.7320508075688772\n",
      "Sum of all function outputs: 37.732050807568875\n"
     ]
    }
   ],
   "source": [
    "functions_dict = {\n",
    "    'Square': lambda x: x ** 2,\n",
    "    'Cube': lambda x: x ** 3,\n",
    "    'Square Root': lambda x: x ** 0.5\n",
    "}\n",
    "\n",
    "value = float(input(\"Enter a number: \"))\n",
    "total = 0\n",
    "for function_name, function in functions_dict.items():\n",
    "    result = function(value)\n",
    "    total += result\n",
    "    print(f'{function_name} of {value} is {result}')\n",
    "\n",
    "print(f'Sum of all function outputs: {total}')\n"
   ]
  },
  {
   "cell_type": "markdown",
   "id": "7e6e2a97",
   "metadata": {},
   "source": [
    "# 12. A list of words is given. Find the words from the list that have their second character in uppercase.\n",
    "ls = ['hello', 'Dear', 'hOw', 'ARe', 'You']"
   ]
  },
  {
   "cell_type": "code",
   "execution_count": 24,
   "id": "450f2694",
   "metadata": {},
   "outputs": [
    {
     "name": "stdout",
     "output_type": "stream",
     "text": [
      "Words with the second character in uppercase:\n",
      "hOw\n",
      "ARe\n"
     ]
    }
   ],
   "source": [
    "ls = ['hello', 'Dear', 'hOw', 'ARe', 'You']\n",
    "result_words = []\n",
    "\n",
    "for word in ls:\n",
    "    if len(word) >= 2 and word[1].isupper():\n",
    "        result_words.append(word)\n",
    "        \n",
    "print(\"Words with the second character in uppercase:\")\n",
    "for word in result_words:\n",
    "    print(word)\n"
   ]
  },
  {
   "cell_type": "markdown",
   "id": "10216b8b",
   "metadata": {},
   "source": [
    "# 13. A dictionary of names and their weights on earth is given. Find how much they will weigh on the moon. (Use map and lambda functions) Formula : wMoon = (wEarth * GMoon) / GEarth\n",
    "\n",
    "i) # Weight of people in kg\n",
    "• WeightOnEarth = {'John':45, 'Shelly':65, 'Marry':35}\n",
    "ii) # Gravitational force on the Moon: 1.622 m/s2\n",
    "• GMoon = 1.622\n",
    "iii) # Gravitational force on the Earth: 9.81 m/s2\n",
    "• GEarth = 9.81"
   ]
  },
  {
   "cell_type": "code",
   "execution_count": 25,
   "id": "694bf19d",
   "metadata": {},
   "outputs": [
    {
     "name": "stdout",
     "output_type": "stream",
     "text": [
      "Weights on the moon:\n",
      "John: 7.44 kg\n",
      "Shelly: 10.75 kg\n",
      "Marry: 5.79 kg\n"
     ]
    }
   ],
   "source": [
    "WeightOnEarth = {'John': 45, 'Shelly': 65, 'Marry': 35}\n",
    "\n",
    "GMoon = 1.622\n",
    "GEarth = 9.81\n",
    "\n",
    "WeightOnMoon = list(map(lambda x: (x[1] * GMoon) / GEarth, WeightOnEarth.items()))\n",
    "WeightOnMoonDict = dict(zip(WeightOnEarth.keys(), WeightOnMoon))\n",
    "\n",
    "print(\"Weights on the moon:\")\n",
    "for name, weight in WeightOnMoonDict.items():\n",
    "    print(f\"{name}: {weight:.2f} kg\")\n"
   ]
  },
  {
   "cell_type": "markdown",
   "id": "07d921d3",
   "metadata": {},
   "source": [
    "# Control Structutes"
   ]
  },
  {
   "cell_type": "markdown",
   "id": "7ca11342",
   "metadata": {},
   "source": [
    "# 1. Write a python program to find the first N Prime numbers."
   ]
  },
  {
   "cell_type": "code",
   "execution_count": 1,
   "id": "8c05479a",
   "metadata": {},
   "outputs": [
    {
     "name": "stdout",
     "output_type": "stream",
     "text": [
      "Enter the value of 'n' for finding prime numbers: 6\n",
      "The first 6 prime numbers are: [2, 3, 5, 7, 11, 13]\n"
     ]
    }
   ],
   "source": [
    "def isPrime(num):\n",
    "    if num <= 1:\n",
    "        return False\n",
    "    if num <= 3:\n",
    "        return True\n",
    "    if num % 2 == 0 or num % 3 == 0:\n",
    "        return False\n",
    "    i = 5\n",
    "    while i * i <= num:\n",
    "        if num % i == 0 or num % (i + 2) == 0:\n",
    "            return False\n",
    "        i += 6\n",
    "    return True\n",
    "\n",
    "def findNPrimes(n):\n",
    "    prime_list = []\n",
    "    num = 2\n",
    "    while len(prime_list) < n:\n",
    "        if isPrime(num):\n",
    "            prime_list.append(num)\n",
    "        num += 1\n",
    "    return prime_list\n",
    "\n",
    "\n",
    "n = int(input(\"Enter the value of 'n' for finding prime numbers: \"))\n",
    "if n <= 0:\n",
    "    print(\"Please enter a positive integer for 'n'.\")\n",
    "else:\n",
    "    prime_list = findNPrimes(n)\n",
    "    print(f\"The first {n} prime numbers are: {prime_list}\")"
   ]
  },
  {
   "cell_type": "markdown",
   "id": "cdf0956c",
   "metadata": {},
   "source": [
    "# 2. Write the python code that calculates the salary of an employee. Prompt the user to enter the Basic Salary, HRA, TA, and DA. Add these components to calculate the Gross Salary. \n",
    "Also, deduct\n",
    "10% of salary from the Gross Salary to be paid as tax and display gross minus tax as net salary."
   ]
  },
  {
   "cell_type": "code",
   "execution_count": 2,
   "id": "ef7a200c",
   "metadata": {},
   "outputs": [
    {
     "name": "stdout",
     "output_type": "stream",
     "text": [
      "Enter Basic Salary: 10000\n",
      "Enter HRA: 1000\n",
      "Enter TA (Travel Allowance): 4000\n",
      "Enter DA (Dearness Allowance): 3000\n",
      "Basic Salary: 10000.00\n",
      "HRA: 1000.00\n",
      "TA: 4000.00\n",
      "DA: 3000.00\n",
      "Gross Salary: 18000.00\n",
      "Tax: 1800.00\n",
      "Net Salary: 16200.00\n"
     ]
    }
   ],
   "source": [
    "basic_salary = float(input(\"Enter Basic Salary: \"))\n",
    "hra = float(input(\"Enter HRA: \"))\n",
    "ta = float(input(\"Enter TA (Travel Allowance): \"))\n",
    "da = float(input(\"Enter DA (Dearness Allowance): \"))\n",
    "\n",
    "gross_salary = basic_salary + hra + ta + da\n",
    "tax = 0.10 * gross_salary\n",
    "net_salary = gross_salary - tax\n",
    "\n",
    "print(\"Basic Salary: {:.2f}\".format(basic_salary))\n",
    "print(\"HRA: {:.2f}\".format(hra))\n",
    "print(\"TA: {:.2f}\".format(ta))\n",
    "print(\"DA: {:.2f}\".format(da))\n",
    "print(\"Gross Salary: {:.2f}\".format(gross_salary))\n",
    "print(\"Tax: {:.2f}\".format(tax))\n",
    "print(\"Net Salary: {:.2f}\".format(net_salary))\n"
   ]
  },
  {
   "cell_type": "markdown",
   "id": "214a61b6",
   "metadata": {},
   "source": [
    "# 3. Write a python program to search for a string in the given list."
   ]
  },
  {
   "cell_type": "code",
   "execution_count": 6,
   "id": "5dc75ca1",
   "metadata": {},
   "outputs": [
    {
     "name": "stdout",
     "output_type": "stream",
     "text": [
      "Enter the string to search for: cherry\n",
      "'cherry' was found in the list.\n"
     ]
    }
   ],
   "source": [
    "myList = [\"apple\", \"banana\", \"mango\", \"cherry\", \"jackfruit\"]\n",
    "searchString = input(\"Enter the string to search for: \")\n",
    "\n",
    "found = False\n",
    "for item in myList:\n",
    "    if item == searchString:\n",
    "        found = True\n",
    "        break\n",
    "if found:\n",
    "    print(\"'{}' was found in the list.\".format(searchString))\n",
    "else:\n",
    "    print(\"'{}' was not found in the list.\".format(searchString))\n"
   ]
  },
  {
   "cell_type": "markdown",
   "id": "1774bb58",
   "metadata": {},
   "source": [
    "# 4. Write a Python function that accepts a string and calculates the number of upper-case letters and lower-case letters."
   ]
  },
  {
   "cell_type": "code",
   "execution_count": 7,
   "id": "579bf3cf",
   "metadata": {},
   "outputs": [
    {
     "name": "stdout",
     "output_type": "stream",
     "text": [
      "Enter a string: There Will Be Blood\n",
      "Number of upper-case letters: 4\n",
      "Number of lower-case letters: 12\n"
     ]
    }
   ],
   "source": [
    "def count_upper_lower(string):\n",
    "    upper_count = 0\n",
    "    lower_count = 0\n",
    "    for char in string:\n",
    "        if char.isupper():\n",
    "            upper_count += 1\n",
    "        elif char.islower():\n",
    "            lower_count += 1\n",
    "    return upper_count, lower_count\n",
    "\n",
    "\n",
    "input_string = input(\"Enter a string: \")\n",
    "upper_count, lower_count = count_upper_lower(input_string)\n",
    "\n",
    "print(f\"Number of upper-case letters: {upper_count}\")\n",
    "print(f\"Number of lower-case letters: {lower_count}\")\n"
   ]
  },
  {
   "cell_type": "markdown",
   "id": "3ff679e6",
   "metadata": {},
   "source": [
    "# 5. Write a program to display the sum of odd numbers and even numbers that fall between 12 and 37."
   ]
  },
  {
   "cell_type": "code",
   "execution_count": 8,
   "id": "4f4c0699",
   "metadata": {},
   "outputs": [
    {
     "name": "stdout",
     "output_type": "stream",
     "text": [
      "Sum of odd numbers between 12 and 37: 325\n",
      "Sum of even numbers between 12 and 37: 312\n"
     ]
    }
   ],
   "source": [
    "sum_odd = 0\n",
    "sum_even = 0\n",
    "\n",
    "for number in range(12, 38):\n",
    "    if number % 2 != 0:\n",
    "        sum_odd += number\n",
    "    else:\n",
    "        sum_even += number\n",
    "\n",
    "print(f\"Sum of odd numbers between 12 and 37: {sum_odd}\")\n",
    "print(f\"Sum of even numbers between 12 and 37: {sum_even}\")\n"
   ]
  },
  {
   "cell_type": "markdown",
   "id": "3a1c6ed4",
   "metadata": {},
   "source": [
    "# 6. Write a python Program to print the table of any number."
   ]
  },
  {
   "cell_type": "code",
   "execution_count": 10,
   "id": "eb3a17e5",
   "metadata": {},
   "outputs": [
    {
     "name": "stdout",
     "output_type": "stream",
     "text": [
      "Enter a number: 7\n",
      "Table of 7:\n",
      "7 x 1 = 7\n",
      "7 x 2 = 14\n",
      "7 x 3 = 21\n",
      "7 x 4 = 28\n",
      "7 x 5 = 35\n",
      "7 x 6 = 42\n",
      "7 x 7 = 49\n",
      "7 x 8 = 56\n",
      "7 x 9 = 63\n",
      "7 x 10 = 70\n"
     ]
    }
   ],
   "source": [
    "num = int(input(\"Enter a number: \"))\n",
    "start = 1\n",
    "end = 10\n",
    "print(f\"Table of {num}:\")\n",
    "for i in range(start, end + 1):\n",
    "    product = num * i\n",
    "    print(f\"{num} x {i} = {product}\")\n"
   ]
  },
  {
   "cell_type": "markdown",
   "id": "d309cf09",
   "metadata": {},
   "source": [
    "# 7. Write a Python program to sum the first 10 prime numbers."
   ]
  },
  {
   "cell_type": "code",
   "execution_count": null,
   "id": "3be3d56f",
   "metadata": {},
   "outputs": [],
   "source": [
    "# def is_prime(num):\n",
    "    if num <= 1:\n",
    "        return False\n",
    "    if num <= 3:\n",
    "        return True\n",
    "    if num % 2 == 0 or num % 3 == 0:\n",
    "        return False\n",
    "    i = 5\n",
    "    while i * i <= num:\n",
    "        if num % i == 0 or num % (i + 2) == 0:\n",
    "            return False\n",
    "        i += 6\n",
    "    return True\n",
    "\n",
    "def sum_first_n_primes(n):\n",
    "    primes = []\n",
    "    num = 2\n",
    "    while len(primes) < n:\n",
    "        if is_prime(num):\n",
    "            primes.append(num)\n",
    "        num += 1\n",
    "    return sum(primes)\n",
    "\n",
    "# Calculate the sum of the first 10 prime numbers\n",
    "sum_of_primes = sum_first_n_primes(10)\n",
    "\n",
    "# Display the result\n",
    "print(f\"The sum of the first 10 prime numbers is: {sum_of_primes}\")\n"
   ]
  },
  {
   "cell_type": "markdown",
   "id": "5380cc94",
   "metadata": {},
   "source": [
    "# 8. Write a python program to implement arithmetic operations using nested ifstatement."
   ]
  },
  {
   "cell_type": "code",
   "execution_count": 1,
   "id": "a25912fa",
   "metadata": {},
   "outputs": [
    {
     "name": "stdout",
     "output_type": "stream",
     "text": [
      "Enter the first number: 34\n",
      "Enter the second number: 24\n",
      "Enter the arithmetic operation (+, -, *, /): +\n",
      "Result: 58.0\n"
     ]
    }
   ],
   "source": [
    "num1 = float(input(\"Enter the first number: \"))\n",
    "num2 = float(input(\"Enter the second number: \"))\n",
    "operation = input(\"Enter the arithmetic operation (+, -, *, /): \")\n",
    "\n",
    "\n",
    "result = None  \n",
    "\n",
    "if operation == \"+\":\n",
    "    result = num1 + num2\n",
    "elif operation == \"-\":\n",
    "    result = num1 - num2\n",
    "elif operation == \"*\":\n",
    "    result = num1 * num2\n",
    "elif operation == \"/\":\n",
    "    if num2 != 0: \n",
    "        result = num1 / num2\n",
    "    else:\n",
    "        print(\"Error: Division by zero is not allowed.\")\n",
    "else:\n",
    "    print(\"Invalid operation entered.\")\n",
    "\n",
    "\n",
    "if result is not None:\n",
    "    print(f\"Result: {result}\")\n"
   ]
  },
  {
   "cell_type": "markdown",
   "id": "94f4b3ff",
   "metadata": {},
   "source": [
    "# 9. Write a python program to take the temperature in Celsius and convert it to a Fahrenheit."
   ]
  },
  {
   "cell_type": "code",
   "execution_count": 2,
   "id": "6dd70b70",
   "metadata": {},
   "outputs": [
    {
     "name": "stdout",
     "output_type": "stream",
     "text": [
      "Enter temperature in Celsius: 37\n",
      "37.0 degrees Celsius is equal to 98.6 degrees Fahrenheit.\n"
     ]
    }
   ],
   "source": [
    "\n",
    "celsius = float(input(\"Enter temperature in Celsius: \"))\n",
    "\n",
    "\n",
    "fahrenheit = (celsius * 9/5) + 32\n",
    "\n",
    "\n",
    "print(f\"{celsius} degrees Celsius is equal to {fahrenheit} degrees Fahrenheit.\")\n"
   ]
  },
  {
   "cell_type": "markdown",
   "id": "c184693d",
   "metadata": {},
   "source": [
    "# 10. Write a python program to find a maximum and minimum number in a list without using an inbuilt function."
   ]
  },
  {
   "cell_type": "code",
   "execution_count": 4,
   "id": "fa35c960",
   "metadata": {},
   "outputs": [
    {
     "name": "stdout",
     "output_type": "stream",
     "text": [
      "Enter the number of elements in the list: 5\n",
      "Enter element 1: 67\n",
      "Enter element 2: 89\n",
      "Enter element 3: 10\n",
      "Enter element 4: 24\n",
      "Enter element 5: 100\n",
      "Maximum number in the list: 100.0\n",
      "Minimum number in the list: 10.0\n"
     ]
    }
   ],
   "source": [
    "# Function to find the maximum and minimum numbers in a list\n",
    "def find_max_min(numbers):\n",
    "    if not numbers:\n",
    "        return None, None \n",
    "\n",
    "    max_num = numbers[0] \n",
    "    min_num = numbers[0]  \n",
    "\n",
    "    for num in numbers:\n",
    "        if num > max_num:\n",
    "            max_num = num\n",
    "        elif num < min_num:\n",
    "            min_num = num\n",
    "\n",
    "    return max_num, min_num\n",
    "\n",
    "num_list = []\n",
    "\n",
    "n = int(input(\"Enter the number of elements in the list: \"))\n",
    "\n",
    "for i in range(n):\n",
    "    num = float(input(f\"Enter element {i+1}: \"))\n",
    "    num_list.append(num)\n",
    "\n",
    "\n",
    "max_value, min_value = find_max_min(num_list)\n",
    "\n",
    "\n",
    "if max_value is not None and min_value is not None:\n",
    "    print(f\"Maximum number in the list: {max_value}\")\n",
    "    print(f\"Minimum number in the list: {min_value}\")\n",
    "else:\n",
    "    print(\"The list is empty.\")\n"
   ]
  },
  {
   "cell_type": "markdown",
   "id": "e97bf113",
   "metadata": {},
   "source": [
    "# 11. Write a program in python to print out the number of seconds in 30-day month 30 days, 24 hours in a day, 60 minutes per day, 60 seconds in aminute."
   ]
  },
  {
   "cell_type": "code",
   "execution_count": 5,
   "id": "06ceec59",
   "metadata": {},
   "outputs": [
    {
     "name": "stdout",
     "output_type": "stream",
     "text": [
      "There are 2592000 seconds in a 30-day month.\n"
     ]
    }
   ],
   "source": [
    "days_in_month = 30\n",
    "hours_in_day = 24\n",
    "minutes_in_hour = 60\n",
    "seconds_in_minute = 60\n",
    "\n",
    "total_seconds = days_in_month * hours_in_day * minutes_in_hour * seconds_in_minute\n",
    "print(f\"There are {total_seconds} seconds in a 30-day month.\")\n"
   ]
  },
  {
   "cell_type": "markdown",
   "id": "aeb02a88",
   "metadata": {},
   "source": [
    "# 12. Write a program in python to print out the number of seconds in a year."
   ]
  },
  {
   "cell_type": "code",
   "execution_count": 6,
   "id": "c046f3eb",
   "metadata": {},
   "outputs": [
    {
     "name": "stdout",
     "output_type": "stream",
     "text": [
      "There are 31536000 seconds in a non-leap year.\n",
      "There are 31622400 seconds in a leap year.\n"
     ]
    }
   ],
   "source": [
    "days_in_year = 365\n",
    "hours_in_day = 24\n",
    "minutes_in_hour = 60\n",
    "seconds_in_minute = 60\n",
    "\n",
    "total_seconds_non_leap = days_in_year * hours_in_day * minutes_in_hour * seconds_in_minute\n",
    "total_seconds_leap = (days_in_year + 1) * hours_in_day * minutes_in_hour * seconds_in_minute\n",
    "\n",
    "print(f\"There are {total_seconds_non_leap} seconds in a non-leap year.\")\n",
    "print(f\"There are {total_seconds_leap} seconds in a leap year.\")\n"
   ]
  },
  {
   "cell_type": "markdown",
   "id": "14aaca90",
   "metadata": {},
   "source": [
    "# 13. A high-speed train can travel at an average speed of 150 mph, how long will it take a train travelling at this speed to travel from London to Glasgow which is 414 miles away?"
   ]
  },
  {
   "cell_type": "code",
   "execution_count": 7,
   "id": "3fed0d8b",
   "metadata": {},
   "outputs": [
    {
     "name": "stdout",
     "output_type": "stream",
     "text": [
      "It will take 2.76 hours for the train to travel from London to Glasgow.\n"
     ]
    }
   ],
   "source": [
    "average_speed_mph = 150  \n",
    "distance_miles = 414   \n",
    "time_hours = distance_miles / average_speed_mph\n",
    "print(f\"It will take {time_hours} hours for the train to travel from London to Glasgow.\")\n"
   ]
  },
  {
   "cell_type": "markdown",
   "id": "9e37a10e",
   "metadata": {},
   "source": [
    "# 14. Write a python program that defines a variable called days_in_each_school_year and assign 192 to the variable. The program should then print out the total hours that you spend in school from year 7 to year 11, if each day you spend 6 hours in school days_in_each_school_year = 19"
   ]
  },
  {
   "cell_type": "code",
   "execution_count": 8,
   "id": "3f9f5922",
   "metadata": {},
   "outputs": [
    {
     "name": "stdout",
     "output_type": "stream",
     "text": [
      "Total hours spent in school from Year 7 to Year 11: 5760 hours\n"
     ]
    }
   ],
   "source": [
    "# Define the number of school days in each school year\n",
    "days_in_each_school_year = 192\n",
    "num_school_years = 5  \n",
    "hours_per_day = 6\n",
    "total_hours_in_school = days_in_each_school_year * num_school_years * hours_per_day\n",
    "print(f\"Total hours spent in school from Year 7 to Year 11: {total_hours_in_school} hours\")\n"
   ]
  },
  {
   "cell_type": "markdown",
   "id": "fd5900d5",
   "metadata": {},
   "source": [
    "# 15. If the age of Ram,Sam and Khan are input through the keyboard,write a python program to determine the eldest and youngest of the three."
   ]
  },
  {
   "cell_type": "code",
   "execution_count": 9,
   "id": "9af5347f",
   "metadata": {},
   "outputs": [
    {
     "name": "stdout",
     "output_type": "stream",
     "text": [
      "Enter Ram's age: 34\n",
      "Enter Sam's age: 44\n",
      "Enter Khan's age: 29\n",
      "The eldest among Ram, Sam, and Khan is Sam.\n",
      "The youngest among Ram, Sam, and Khan is Khan.\n"
     ]
    }
   ],
   "source": [
    "# Input ages of Ram, Sam, and Khan\n",
    "ram_age = int(input(\"Enter Ram's age: \"))\n",
    "sam_age = int(input(\"Enter Sam's age: \"))\n",
    "khan_age = int(input(\"Enter Khan's age: \"))\n",
    "\n",
    "eldest = \"Ram\"\n",
    "youngest = \"Ram\"\n",
    "\n",
    "if sam_age > ram_age:\n",
    "    eldest = \"Sam\"\n",
    "    youngest = \"Ram\"\n",
    "elif sam_age < ram_age:\n",
    "    eldest = \"Ram\"\n",
    "    youngest = \"Sam\"\n",
    "\n",
    "if khan_age > sam_age:\n",
    "    eldest = \"Khan\"\n",
    "    youngest = \"Sam\"\n",
    "elif khan_age < sam_age:\n",
    "    eldest = \"Sam\"\n",
    "    youngest = \"Khan\"\n",
    "\n",
    "print(f\"The eldest among Ram, Sam, and Khan is {eldest}.\")\n",
    "print(f\"The youngest among Ram, Sam, and Khan is {youngest}.\")\n"
   ]
  },
  {
   "cell_type": "markdown",
   "id": "e287a5e9",
   "metadata": {},
   "source": [
    "# 16. Write a python program to rotate a list by right n times with and without slicing technique."
   ]
  },
  {
   "cell_type": "code",
   "execution_count": 21,
   "id": "2613a9c6",
   "metadata": {},
   "outputs": [
    {
     "name": "stdout",
     "output_type": "stream",
     "text": [
      "Enter the number of times to rotate: 2\n",
      "Rotated list without slicing: [4, 5, 1, 2, 3]\n"
     ]
    }
   ],
   "source": [
    "# Rotate a list to the right n times without slicing\n",
    "def rotate_right_without_slicing(lst, n):\n",
    "    n = n % len(lst) \n",
    "    for _ in range(n):\n",
    "        last_element = lst.pop()\n",
    "        lst.insert(0, last_element)\n",
    "        \n",
    "original_list = [1, 2, 3, 4, 5]\n",
    "n = int(input(\"Enter the number of times to rotate: \"))\n",
    "rotated_list_without_slicing = original_list.copy()\n",
    "rotate_right_without_slicing(rotated_list_without_slicing, n)\n",
    "print(f\"Rotated list without slicing: {rotated_list_without_slicing}\")"
   ]
  },
  {
   "cell_type": "markdown",
   "id": "0c693c26",
   "metadata": {},
   "source": [
    "# 17. Python program to print the patterns given below:"
   ]
  },
  {
   "cell_type": "code",
   "execution_count": 15,
   "id": "f7e29540",
   "metadata": {},
   "outputs": [
    {
     "name": "stdout",
     "output_type": "stream",
     "text": [
      "Enter the number of rows for Pascal's Triangle: 5\n",
      "Pascal's Triangle:\n",
      "1 \n",
      "1 1 \n",
      "1 2 1 \n",
      "1 3 3 1 \n",
      "1 4 6 4 1 \n"
     ]
    }
   ],
   "source": [
    "#Pattern 1\n",
    "def generate_pascals_triangle(rows):\n",
    "    triangle = []\n",
    "    for i in range(rows):\n",
    "        row = []\n",
    "        for j in range(i + 1):\n",
    "            if j == 0 or j == i:\n",
    "                row.append(1)\n",
    "            else:\n",
    "                # Calculate the value based on the previous row\n",
    "                value = triangle[i - 1][j - 1] + triangle[i - 1][j]\n",
    "                row.append(value)\n",
    "        triangle.append(row)\n",
    "    return triangle\n",
    "\n",
    "def print_pascals_triangle(triangle):\n",
    "    for row in triangle:\n",
    "        for num in row:\n",
    "            print(num, end=\" \")\n",
    "        print()\n",
    "\n",
    "num_rows = int(input(\"Enter the number of rows for Pascal's Triangle: \"))\n",
    "if num_rows <= 0:\n",
    "    print(\"Please enter a positive integer.\")\n",
    "else:\n",
    "    pascals_triangle = generate_pascals_triangle(num_rows)\n",
    "    print(\"Pascal's Triangle:\")\n",
    "    print_pascals_triangle(pascals_triangle)\n"
   ]
  },
  {
   "cell_type": "code",
   "execution_count": 16,
   "id": "468329c3",
   "metadata": {},
   "outputs": [
    {
     "name": "stdout",
     "output_type": "stream",
     "text": [
      "Enter the number of rows for the pattern: 5\n",
      "* \n",
      "* * \n",
      "* * * \n",
      "* * * * \n",
      "* * * * * \n"
     ]
    }
   ],
   "source": [
    "#Pattern 2\n",
    "num_rows = int(input(\"Enter the number of rows for the pattern: \"))\n",
    "for i in range(1, num_rows + 1):\n",
    "    # Print '*' i times in the current row\n",
    "    print('* ' * i)\n"
   ]
  },
  {
   "cell_type": "code",
   "execution_count": 19,
   "id": "cb866614",
   "metadata": {},
   "outputs": [
    {
     "name": "stdout",
     "output_type": "stream",
     "text": [
      "Enter the number of rows for the pattern: 5\n",
      "    * \n",
      "   * * \n",
      "  * * * \n",
      " * * * * \n",
      "* * * * * \n"
     ]
    }
   ],
   "source": [
    "#Pattern 3\n",
    "num_rows = int(input(\"Enter the number of rows for the pattern: \"))\n",
    "for i in range(1, num_rows + 1):\n",
    "    # Print leading spaces\n",
    "    print(\" \" * (num_rows - i), end=\"\")\n",
    "    print('* ' * i)\n"
   ]
  },
  {
   "cell_type": "code",
   "execution_count": 18,
   "id": "98d4cab7",
   "metadata": {},
   "outputs": [
    {
     "name": "stdout",
     "output_type": "stream",
     "text": [
      "P\n",
      "Py\n",
      "Pyt\n",
      "Pyth\n",
      "Pytho\n",
      "Python\n"
     ]
    }
   ],
   "source": [
    "#Pattern4\n",
    "word = \"Python\"\n",
    "for i in range(1, len(word) + 1):\n",
    "    print(word[:i])\n"
   ]
  },
  {
   "cell_type": "code",
   "execution_count": null,
   "id": "88726b1d",
   "metadata": {},
   "outputs": [],
   "source": []
  }
 ],
 "metadata": {
  "kernelspec": {
   "display_name": "Python 3 (ipykernel)",
   "language": "python",
   "name": "python3"
  },
  "language_info": {
   "codemirror_mode": {
    "name": "ipython",
    "version": 3
   },
   "file_extension": ".py",
   "mimetype": "text/x-python",
   "name": "python",
   "nbconvert_exporter": "python",
   "pygments_lexer": "ipython3",
   "version": "3.11.4"
  }
 },
 "nbformat": 4,
 "nbformat_minor": 5
}
