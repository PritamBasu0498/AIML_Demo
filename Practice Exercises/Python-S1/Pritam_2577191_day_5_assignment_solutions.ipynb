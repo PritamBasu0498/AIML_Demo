{
 "cells": [
  {
   "cell_type": "code",
   "execution_count": 1,
   "id": "fe7cacf0",
   "metadata": {},
   "outputs": [
    {
     "name": "stdout",
     "output_type": "stream",
     "text": [
      "<mysql.connector.connection_cext.CMySQLConnection object at 0x00000197268BFA90>\n"
     ]
    }
   ],
   "source": [
    "import mysql.connector\n",
    "\n",
    "conn=mysql.connector.connect(user='root',\n",
    "\n",
    "password='Pritam@123',\n",
    "\n",
    "host='127.0.0.1',\n",
    "\n",
    "database='books'\n",
    "\n",
    ")\n",
    "\n",
    "print(conn)"
   ]
  },
  {
   "cell_type": "code",
   "execution_count": 4,
   "id": "eea16de5",
   "metadata": {},
   "outputs": [
    {
     "name": "stdout",
     "output_type": "stream",
     "text": [
      "('books',)\n",
      "('information_schema',)\n",
      "('mysql',)\n",
      "('new_company',)\n",
      "('pastries',)\n",
      "('performance_schema',)\n",
      "('procedure',)\n",
      "('sakila',)\n",
      "('shirts_db',)\n",
      "('sys',)\n",
      "('world',)\n"
     ]
    }
   ],
   "source": [
    "curs=conn.cursor()\n",
    "curs.execute(\"show databases\")\n",
    "for i in curs:\n",
    "    print(i)"
   ]
  },
  {
   "cell_type": "code",
   "execution_count": 5,
   "id": "7865b72b",
   "metadata": {},
   "outputs": [
    {
     "name": "stdout",
     "output_type": "stream",
     "text": [
      "('books',)\n"
     ]
    }
   ],
   "source": [
    "curs.execute(\"show tables\")\n",
    "for i in curs:\n",
    "    print(i)"
   ]
  },
  {
   "cell_type": "code",
   "execution_count": 6,
   "id": "ed30053a",
   "metadata": {},
   "outputs": [
    {
     "name": "stdout",
     "output_type": "stream",
     "text": [
      "('book_id', b'int', 'NO', 'PRI', None, 'auto_increment')\n",
      "('title', b'varchar(100)', 'YES', '', None, '')\n",
      "('author_fname', b'varchar(100)', 'YES', '', None, '')\n",
      "('author_lname', b'varchar(100)', 'YES', '', None, '')\n",
      "('released_year', b'int', 'YES', '', None, '')\n",
      "('stock_quantity', b'int', 'YES', '', None, '')\n",
      "('pages', b'int', 'YES', '', None, '')\n"
     ]
    }
   ],
   "source": [
    "curs.execute(\"desc books\")\n",
    "for i in curs:\n",
    "    print(i)"
   ]
  },
  {
   "cell_type": "code",
   "execution_count": 8,
   "id": "5af77c25",
   "metadata": {},
   "outputs": [
    {
     "name": "stdout",
     "output_type": "stream",
     "text": [
      "(1, 'The Namesake', 'Jhumpa', 'Lahiri', 2003, 32, 291)\n",
      "(2, 'Norse Mythology', 'Neil', 'Gaiman', 2016, 43, 304)\n",
      "(3, 'American Gods', 'Neil', 'Gaiman', 2001, 12, 465)\n",
      "(4, 'Interpreter of Maladies', 'Jhumpa', 'Lahiri', 1996, 97, 198)\n",
      "(5, 'A Hologram for the King: A Novel', 'Dave', 'Eggers', 2012, 154, 352)\n",
      "(6, 'The Circle', 'Dave', 'Eggers', 2013, 26, 504)\n",
      "(7, 'The Amazing Adventures of Kavalier & Clay', 'Michael', 'Chabon', 2000, 68, 634)\n",
      "(8, 'Just Kids', 'Patti', 'Smith', 2010, 55, 304)\n",
      "(9, 'A Heartbreaking Work of Staggering Genius', 'Dave', 'Eggers', 2001, 104, 437)\n",
      "(10, 'Coraline', 'Neil', 'Gaiman', 2003, 100, 208)\n",
      "(11, 'What We Talk About When We Talk About Love: Stories', 'Raymond', 'Carver', 1981, 23, 176)\n",
      "(12, \"Where I'm Calling From: Selected Stories\", 'Raymond', 'Carver', 1989, 12, 526)\n",
      "(13, 'White Noise', 'Don', 'DeLillo', 1985, 49, 320)\n",
      "(14, 'Cannery Row', 'John', 'Steinbeck', 1945, 95, 181)\n",
      "(15, 'Oblivion: Stories', 'David', 'Foster Wallace', 2004, 172, 329)\n",
      "(16, 'Consider the Lobster', 'David', 'Foster Wallace', 2005, 92, 343)\n"
     ]
    },
    {
     "data": {
      "text/plain": [
       "mysql.connector.cursor_cext.CMySQLCursor"
      ]
     },
     "execution_count": 8,
     "metadata": {},
     "output_type": "execute_result"
    }
   ],
   "source": [
    "curs.execute(\"select * from books\")\n",
    "for i in curs:\n",
    "    print(i)\n",
    "type(curs)"
   ]
  },
  {
   "cell_type": "code",
   "execution_count": 9,
   "id": "d58257dd",
   "metadata": {},
   "outputs": [],
   "source": [
    "conn=mysql.connector.connect(user='root',\n",
    "\n",
    "password='Pritam@123',\n",
    "\n",
    "host='127.0.0.1',\n",
    "\n",
    "database='new_company'\n",
    "\n",
    ")"
   ]
  },
  {
   "cell_type": "code",
   "execution_count": 12,
   "id": "a509a14b",
   "metadata": {
    "scrolled": true
   },
   "outputs": [
    {
     "name": "stdout",
     "output_type": "stream",
     "text": [
      "('departments',)\n",
      "('employee_department_details',)\n",
      "('employees',)\n",
      "('jobs',)\n",
      "('locations',)\n"
     ]
    }
   ],
   "source": [
    "curs=conn.cursor()\n",
    "curs.execute(\"show tables\")\n",
    "for i in curs:\n",
    "    print(i)"
   ]
  },
  {
   "cell_type": "code",
   "execution_count": 19,
   "id": "1a995f45",
   "metadata": {},
   "outputs": [
    {
     "name": "stdout",
     "output_type": "stream",
     "text": [
      "(Decimal('100'), 'Steven', 'King', 'SKING', '515.123.4567', datetime.date(1987, 6, 17), 'AD_PRES', Decimal('24000.00'), Decimal('0.00'), Decimal('0'), Decimal('90'))\n",
      "(Decimal('101'), 'Neena', 'Kochhar', 'NKOCHHAR', '515.123.4568', datetime.date(1987, 6, 18), 'AD_VP', Decimal('17000.00'), Decimal('0.00'), Decimal('100'), Decimal('90'))\n",
      "(Decimal('102'), 'Lex', 'De Haan', 'LDEHAAN', '515.123.4569', datetime.date(1987, 6, 19), 'AD_VP', Decimal('17000.00'), Decimal('0.00'), Decimal('100'), Decimal('90'))\n",
      "(Decimal('103'), 'Alexander', 'Hunold', 'AHUNOLD', '590.423.4567', datetime.date(1987, 6, 20), 'IT_PROG', Decimal('9000.00'), Decimal('0.00'), Decimal('102'), Decimal('60'))\n",
      "(Decimal('104'), 'Bruce', 'Ernst', 'BERNST', '590.423.4568', datetime.date(1987, 6, 21), 'IT_PROG', Decimal('6000.00'), Decimal('0.00'), Decimal('103'), Decimal('60'))\n",
      "(Decimal('105'), 'David', 'Austin', 'DAUSTIN', '590.423.4569', datetime.date(1987, 6, 22), 'IT_PROG', Decimal('4800.00'), Decimal('0.00'), Decimal('103'), Decimal('60'))\n",
      "(Decimal('106'), 'Charles', 'Johnson', 'CJOHNSON', '011.44.1644.429262', datetime.date(1987, 9, 4), 'SA_REP', Decimal('6200.00'), Decimal('0.10'), Decimal('149'), Decimal('80'))\n",
      "(Decimal('107'), 'Winston', 'Taylor', 'WTAYLOR', '650.507.9876', datetime.date(1987, 9, 5), 'SH_CLERK', Decimal('3200.00'), Decimal('0.00'), Decimal('120'), Decimal('50'))\n",
      "(Decimal('108'), 'Jean', 'Fleaur', 'JFLEAUR', '650.507.9877', datetime.date(1987, 9, 6), 'SH_CLERK', Decimal('3100.00'), Decimal('0.00'), Decimal('120'), Decimal('50'))\n",
      "(Decimal('109'), 'Martha', 'Sullivan', 'MSULLIVA', '650.507.9878', datetime.date(1987, 9, 7), 'SH_CLERK', Decimal('2500.00'), Decimal('0.00'), Decimal('120'), Decimal('50'))\n",
      "(Decimal('110'), 'Girard', 'Geoni', 'GGEONI', '650.507.9879', datetime.date(1987, 9, 8), 'SH_CLERK', Decimal('2800.00'), Decimal('0.00'), Decimal('120'), Decimal('50'))\n",
      "(Decimal('111'), 'Jennifer', 'Whalen', 'JWHALEN', '515.123.4444', datetime.date(1987, 9, 25), 'AD_ASST', Decimal('4400.00'), Decimal('0.00'), Decimal('101'), Decimal('10'))\n",
      "(Decimal('112'), 'Michael', 'Hartstein', 'MHARTSTE', '515.123.5555', datetime.date(1987, 9, 26), 'MK_MAN', Decimal('13000.00'), Decimal('0.00'), Decimal('100'), Decimal('20'))\n",
      "(Decimal('113'), 'Hermann', 'Baer', 'HBAER', '515.123.8888', datetime.date(1987, 9, 29), 'PR_REP', Decimal('10000.00'), Decimal('0.00'), Decimal('101'), Decimal('70'))\n",
      "(Decimal('114'), 'Shelley', 'Higgins', 'SHIGGINS', '515.123.8080', datetime.date(1987, 9, 30), 'AC_MGR', Decimal('12000.00'), Decimal('0.00'), Decimal('101'), Decimal('110'))\n",
      "(Decimal('115'), 'William', 'Gietz', 'WGIETZ', '515.123.8181', datetime.date(1987, 10, 1), 'AC_ACCOUNT', Decimal('8300.00'), Decimal('0.00'), Decimal('205'), Decimal('110'))\n"
     ]
    }
   ],
   "source": [
    "curs.execute(\"select * from employees\")\n",
    "for i in curs:\n",
    "    print(i)"
   ]
  },
  {
   "cell_type": "markdown",
   "id": "eb9caf14",
   "metadata": {},
   "source": [
    "# 4. You are developing an employee management system for a company. The database should store employee information, including name, salary, department, and hire date. Managers should be able to view and update employee details.\n",
    "\n",
    "1. Design the database schema for the employee management system.\n",
    "\n",
    "2. Write Python code to connect to the database and retrieve a list of employees in a specific department.\n",
    "\n",
    "3. Implement a feature to update an employee's salary."
   ]
  },
  {
   "cell_type": "code",
   "execution_count": 33,
   "id": "c0f26806",
   "metadata": {},
   "outputs": [
    {
     "name": "stdout",
     "output_type": "stream",
     "text": [
      "Name: Alexander Hunold, Salary: 9000.00, Hire Date: 1987-06-20\n",
      "Name: Bruce Ernst, Salary: 6000.00, Hire Date: 1987-06-21\n",
      "Name: David Austin, Salary: 4800.00, Hire Date: 1987-06-22\n",
      "Employee's salary updated successfully.\n"
     ]
    }
   ],
   "source": [
    "import mysql.connector\n",
    "\n",
    "try:\n",
    "    # Database connection parameters\n",
    "    db_config = {\n",
    "        \"host\": \"localhost\",\n",
    "        \"port\": 3306,\n",
    "        \"user\": \"root\",\n",
    "        \"password\": \"Pritam@123\",\n",
    "        \"database\": \"new_company\",\n",
    "    }\n",
    "\n",
    "    # Connect to the MySQL database\n",
    "    connection = mysql.connector.connect(**db_config)\n",
    "\n",
    "    # Create a cursor object to execute SQL queries\n",
    "    cursor = connection.cursor()\n",
    "\n",
    "    # Specify the department you want to retrieve employees from (e.g., \"HR\")\n",
    "    department_name = \"IT\"\n",
    "\n",
    "    # Query to retrieve employees in a specific department\n",
    "    select_query = (\n",
    "        \"SELECT e.first_name, e.last_name, e.salary, e.hire_date \"\n",
    "        \"FROM employees e \"\n",
    "        \"INNER JOIN departments d ON e.department_id = d.department_id \"\n",
    "        \"WHERE d.department_name = %s\"\n",
    "    )\n",
    "\n",
    "    cursor.execute(select_query, (department_name,))\n",
    "\n",
    "    # Fetch all records\n",
    "    employees = cursor.fetchall()\n",
    "\n",
    "    # Print the list of employees in the specified department\n",
    "    for employee in employees:\n",
    "        first_name, last_name, salary, hire_date = employee\n",
    "        print(f\"Name: {first_name} {last_name}, Salary: {salary}, Hire Date: {hire_date}\")\n",
    "\n",
    "    # Update an employee's salary\n",
    "    employee_id_to_update = 100\n",
    "    new_salary = 25000\n",
    "\n",
    "    update_query = \"UPDATE employees SET salary = %s WHERE employee_id = %s\"\n",
    "    cursor.execute(update_query, (new_salary, employee_id_to_update))\n",
    "    connection.commit()\n",
    "\n",
    "    print(\"Employee's salary updated successfully.\")\n",
    "\n",
    "    # Close the cursor and database connection\n",
    "    cursor.close()\n",
    "    connection.close()\n",
    "\n",
    "except mysql.connector.Error as err:\n",
    "    # Handle MySQL errors\n",
    "    print(f\"MySQL Error: {err}\")\n",
    "\n",
    "except Exception as e:\n",
    "    # Handle other exceptions\n",
    "    print(f\"An error occurred: {e}\")\n",
    "\n"
   ]
  },
  {
   "cell_type": "markdown",
   "id": "da32c7b9",
   "metadata": {},
   "source": [
    "# 3. You are tasked with developing a Python program that connects to a MySQL database, retrieves data from a table, performs some operations on the data, and updates the database with the modified data. Please write Python code to accomplish this task. Instructions:\n",
    "\n",
    "1. Assume that you have a MySQL database server running with the following details:\n",
    "\n",
    "i. Host: localhost\n",
    "\n",
    "ii. Port: 3306\n",
    "\n",
    "iii. Username: your_username\n",
    "\n",
    "iv. Password: your_password\n",
    "\n",
    "v. Database Name: your_database\n",
    "\n",
    "vi. Table Name: your_table\n",
    "\n",
    "vii. The table has the following columns: id (int), name (varchar),\n",
    "\n",
    "quantity (int).\n",
    "\n",
    "2. Your Python program should:\n",
    "\n",
    "i. Connect to the MySQL database.\n",
    "\n",
    "ii. Retrieve all records from the your_table table.\n",
    "\n",
    "iii. Calculate the total quantity of all records retrieved.\n",
    "\n",
    "iv. Update the quantity column of each record by doubling its value.\n",
    "\n",
    "v. Commit the changes to the database.\n",
    "\n",
    "vi. Close the database connection.\n",
    "\n",
    "3. Handle any potential errors that may occur during the database connection and\n",
    "\n",
    "data manipulation, such as connection failures or SQL errors.\n",
    "\n",
    "4. Provide comments in your code to explain each step."
   ]
  },
  {
   "cell_type": "code",
   "execution_count": 35,
   "id": "0da5e8a4",
   "metadata": {},
   "outputs": [
    {
     "name": "stdout",
     "output_type": "stream",
     "text": [
      "Total records received: 16\n",
      "Salaries doubled successfully.\n"
     ]
    }
   ],
   "source": [
    "import mysql.connector\n",
    "\n",
    "try:\n",
    "    # Database connection parameters\n",
    "    db_config = {\n",
    "        \"host\": \"localhost\",\n",
    "        \"port\": 3306,\n",
    "        \"user\": \"root\",\n",
    "        \"password\": \"Pritam@123\",\n",
    "        \"database\": \"new_company\",\n",
    "    }\n",
    "\n",
    "    # Step 1: Connect to the MySQL database\n",
    "    connection = mysql.connector.connect(**db_config)\n",
    "\n",
    "    # Step 2: Create a cursor object to execute SQL queries\n",
    "    cursor = connection.cursor()\n",
    "\n",
    "    # Step 3: Retrieve all records from the your_table table\n",
    "    select_query = \"SELECT * FROM employees\"\n",
    "    cursor.execute(select_query)\n",
    "\n",
    "    # Fetch all records\n",
    "    records = cursor.fetchall()\n",
    "\n",
    "    # Step 4: Calculate the total quantity of records received\n",
    "    total_records = len(records)\n",
    "\n",
    "    # Step 5: Output the total quantity of records received\n",
    "    print(f\"Total records received: {total_records}\")\n",
    "\n",
    "    # Step 6: Update the salary column by doubling its value\n",
    "    update_query = \"UPDATE employees SET salary = salary * 2\"\n",
    "    cursor.execute(update_query)\n",
    "\n",
    "    # Step 7: Commit the changes to the database\n",
    "    connection.commit()\n",
    "\n",
    "    # Step 8: Close the cursor and database connection\n",
    "    cursor.close()\n",
    "    connection.close()\n",
    "\n",
    "    # Output a message indicating the update is complete\n",
    "    print(\"Salaries doubled successfully.\")\n",
    "\n",
    "except mysql.connector.Error as err:\n",
    "    # Handle MySQL errors\n",
    "    print(f\"MySQL Error: {err}\")\n",
    "\n",
    "except Exception as e:\n",
    "    # Handle other exceptions\n",
    "    print(f\"An error occurred: {e}\")\n",
    "\n"
   ]
  },
  {
   "cell_type": "markdown",
   "id": "cb98cb57",
   "metadata": {},
   "source": [
    "# 1. Implement Inventory Management in Python with MySQL\n",
    "\n",
    "a) Inventory management, a critical element of the supply chain, is the tracking of\n",
    "\n",
    "inventory from manufacturers to warehouses and from these facilities to a point of\n",
    "\n",
    "sale. The goal of inventory management is to have the right products in the right\n",
    "\n",
    "place at the right time.\n",
    "\n",
    "b) The required Database is Inventory, and the required Tables are Purchases, Sales and\n",
    "\n",
    "Inventory\n",
    "\n",
    "c) Note: Apply your thoughts to demonstrate the DB Operation in Python."
   ]
  },
  {
   "cell_type": "code",
   "execution_count": 39,
   "id": "cb96f2f9",
   "metadata": {},
   "outputs": [],
   "source": [
    "import mysql.connector\n",
    "\n",
    "db = mysql.connector.connect(\n",
    "    host=\"127.0.0.1\",\n",
    "    user=\"root\",\n",
    "    password=\"Pritam@123\",\n",
    "    database=\"Inventory\"\n",
    ")\n",
    "\n",
    "cursor = db.cursor()\n",
    "\n",
    "cursor.execute(\"CREATE DATABASE IF NOT EXISTS Inventory\")\n",
    "cursor.execute(\"USE Inventory\")\n",
    "\n",
    "cursor.execute(\"\"\"\n",
    "    CREATE TABLE IF NOT EXISTS Purchases (\n",
    "        id INT AUTO_INCREMENT PRIMARY KEY,\n",
    "        product_name VARCHAR(255),\n",
    "        purchase_date DATE,\n",
    "        quantity INT,\n",
    "        unit_price DECIMAL(10, 2)\n",
    "    )\n",
    "\"\"\")\n",
    "cursor.execute(\"\"\"\n",
    "    CREATE TABLE IF NOT EXISTS Sales (\n",
    "        id INT AUTO_INCREMENT PRIMARY KEY,\n",
    "        product_name VARCHAR(255),\n",
    "        sale_date DATE,\n",
    "        quantity INT,\n",
    "        unit_price DECIMAL(10, 2)\n",
    "    )\n",
    "\"\"\")\n",
    "cursor.execute(\"\"\"\n",
    "    CREATE TABLE IF NOT EXISTS Inventory (\n",
    "        id INT AUTO_INCREMENT PRIMARY KEY,\n",
    "        product_name VARCHAR(255),\n",
    "        quantity INT\n",
    "    )\n",
    "\"\"\")\n",
    "db.commit()\n",
    "\n",
    "cursor.execute(\"\"\"\n",
    "    INSERT INTO Purchases (product_name, purchase_date, quantity, unit_price)\n",
    "    VALUES (%s, %s, %s, %s)\n",
    "\"\"\", (\"Product A\", \"2023-09-15\", 100, 10.99))\n",
    "db.commit()\n",
    "\n",
    "cursor.execute(\"\"\"\n",
    "    INSERT INTO Sales (product_name, sale_date, quantity, unit_price)\n",
    "    VALUES (%s, %s, %s, %s)\n",
    "\"\"\", (\"Product A\", \"2023-09-16\", 50, 12.99))\n",
    "db.commit()\n",
    "\n",
    "cursor.execute(\"\"\"\n",
    "    INSERT INTO Inventory (product_name, quantity)\n",
    "    VALUES (%s, %s)\n",
    "    ON DUPLICATE KEY UPDATE quantity = quantity + VALUES(quantity)\n",
    "\"\"\", (\"Product A\", 100))\n",
    "db.commit()\n",
    "\n",
    "cursor.execute(\"\"\"\n",
    "    INSERT INTO Inventory (product_name, quantity)\n",
    "    VALUES (%s, %s)\n",
    "    ON DUPLICATE KEY UPDATE quantity = quantity - VALUES(quantity)\n",
    "\"\"\", (\"Product A\", 50))\n",
    "db.commit()\n",
    "\n",
    "cursor.close()\n",
    "db.close()\n"
   ]
  },
  {
   "cell_type": "markdown",
   "id": "8e655c51",
   "metadata": {},
   "source": [
    "# Module Import and Management\n",
    "1.Scenario: You are developing a complex Python project with multiple modules. To manage the\n",
    "project effectively, you need to import and use various modules. Additionally, you want to\n",
    "organize your code using namespaces and avoid naming conflicts.\n",
    "Design a Python program that demonstrates the following:\n",
    "\n",
    "1. Import multiple modules within your project.\n",
    "2. Use the import statement to access functions, classes, and variables from imported modules.\n",
    "3. Create your custom module and use it in your main program.\n",
    "4. Handle naming conflicts and ensure proper namespacing.\n",
    "5. Implement error handling for missing modules or incorrect module usage."
   ]
  },
  {
   "cell_type": "code",
   "execution_count": null,
   "id": "a9f075cb",
   "metadata": {},
   "outputs": [],
   "source": [
    "#main.py\n",
    "\n",
    "try:\n",
    "    # Import standard library modules\n",
    "    import math\n",
    "    import random\n",
    "\n",
    "    # Import a custom module\n",
    "    import mymodule\n",
    "\n",
    "    # Access functions, classes, and variables from imported modules\n",
    "    print(\"Using math module:\", math.sqrt(25))\n",
    "    print(\"Using random module:\", random.randint(1, 100))\n",
    "\n",
    "    # Access functions and variables from the custom module using namespace\n",
    "    print(\"Using custom module function:\", mymodule.my_function())\n",
    "    print(\"Using custom module variable:\", mymodule.custom_variable)\n",
    "\n",
    "    # Handling naming conflicts and ensuring proper namespacing\n",
    "    custom_variable = \"Variable in main.py\"\n",
    "    print(\"Custom variable in main.py:\", custom_variable)\n",
    "    print(\"Custom variable from mymodule:\", mymodule.custom_variable)\n",
    "\n",
    "except ImportError as e:\n",
    "    print(f\"Error importing module: {e}\")\n",
    "\n",
    "except Exception as e:\n",
    "    print(f\"An error occurred: {e}\")\n",
    "\n",
    "finally:\n",
    "    print(\"Program execution completed.\")\n"
   ]
  },
  {
   "cell_type": "code",
   "execution_count": null,
   "id": "c6fe62e2",
   "metadata": {},
   "outputs": [],
   "source": [
    "#my_module.py\n",
    "\n",
    "def my_function():\n",
    "    return \"This is my custom function.\"\n",
    "\n",
    "custom_variable = \"Custom variable from mymodule\"\n"
   ]
  },
  {
   "cell_type": "code",
   "execution_count": 1,
   "id": "3ad2801e",
   "metadata": {},
   "outputs": [
    {
     "name": "stdout",
     "output_type": "stream",
     "text": [
      "No virtual environment is currently enabled.\n"
     ]
    }
   ],
   "source": [
    "import sys\n",
    "\n",
    "def is_venv_enabled():\n",
    "    # Check if sys.prefix points to a virtual environment\n",
    "    return hasattr(sys, 'real_prefix') or (hasattr(sys, 'base_prefix') and sys.base_prefix != sys.prefix)\n",
    "\n",
    "if is_venv_enabled():\n",
    "    print(\"A virtual environment is currently enabled.\")\n",
    "else:\n",
    "    print(\"No virtual environment is currently enabled.\")\n"
   ]
  },
  {
   "cell_type": "code",
   "execution_count": 2,
   "id": "9c28f0f5",
   "metadata": {},
   "outputs": [
    {
     "name": "stdout",
     "output_type": "stream",
     "text": [
      "No virtual environment is currently enabled.\n"
     ]
    }
   ],
   "source": [
    "import sys\n",
    "\n",
    "def is_venv_enabled():\n",
    "    # Check if sys.prefix and sys.base_prefix are the same\n",
    "    return sys.prefix != sys.base_prefix\n",
    "\n",
    "if is_venv_enabled():\n",
    "    print(\"A virtual environment is currently enabled.\")\n",
    "else:\n",
    "    print(\"No virtual environment is currently enabled.\")\n"
   ]
  },
  {
   "cell_type": "markdown",
   "id": "297c4477",
   "metadata": {},
   "source": [
    "# 2. Virtual Environment Management\n",
    "Scenario: You are working on multiple Python projects with different dependencies and\n",
    "versions. To avoid conflicts and ensure project isolation, you decide to use virtual environments.\n",
    "Create a Python program that demonstrates the following:\n",
    "\n",
    "1. Create a virtual environment for a specific project.\n",
    "\n",
    "2. Activate and deactivate virtual environments.\n",
    "\n",
    "3. Install, upgrade, and uninstall packages within a virtual environment.\n",
    "\n",
    "4. List the installed packages in a virtual environment.\n",
    "\n",
    "5. Implement error handling for virtual environment operations.\n",
    "\n",
    "3. Module Dependency Resolution"
   ]
  },
  {
   "cell_type": "code",
   "execution_count": 4,
   "id": "d058ba1c",
   "metadata": {},
   "outputs": [
    {
     "name": "stdout",
     "output_type": "stream",
     "text": [
      "Virtual environment 'my_virtual_env' created successfully.\n",
      "Activated virtual environment 'my_virtual_env'.\n",
      "Package 'requests' installed in 'my_virtual_env'.\n",
      "Installed packages in 'my_virtual_env':\n",
      "Package            Version\n",
      "------------------ ---------\n",
      "certifi            2023.7.22\n",
      "charset-normalizer 3.2.0\n",
      "idna               3.4\n",
      "pip                23.1.2\n",
      "requests           2.31.0\n",
      "setuptools         65.5.0\n",
      "urllib3            2.0.4\n",
      "\n",
      "Error deactivating the virtual environment.\n"
     ]
    }
   ],
   "source": [
    "import os\n",
    "import subprocess\n",
    "import sys\n",
    "\n",
    "def create_virtual_environment(venv_name):\n",
    "    try:\n",
    "        subprocess.run([sys.executable, '-m', 'venv', venv_name], check=True)\n",
    "        print(f\"Virtual environment '{venv_name}' created successfully.\")\n",
    "    except subprocess.CalledProcessError:\n",
    "        print(f\"Error creating virtual environment '{venv_name}'.\")\n",
    "\n",
    "def activate_virtual_environment(venv_name):\n",
    "    venv_dir = os.path.join(venv_name, 'Scripts' if os.name == 'nt' else 'bin')\n",
    "    activate_script = 'activate.bat' if os.name == 'nt' else 'activate'\n",
    "    activate_path = os.path.join(venv_dir, activate_script)\n",
    "\n",
    "    try:\n",
    "        subprocess.run(activate_path, shell=True, check=True)\n",
    "        print(f\"Activated virtual environment '{venv_name}'.\")\n",
    "    except subprocess.CalledProcessError:\n",
    "        print(f\"Error activating virtual environment '{venv_name}'.\")\n",
    "\n",
    "def deactivate_virtual_environment():\n",
    "    try:\n",
    "        subprocess.run(['deactivate'], shell=True, check=True)\n",
    "        print(\"Deactivated the virtual environment.\")\n",
    "    except subprocess.CalledProcessError:\n",
    "        print(\"Error deactivating the virtual environment.\")\n",
    "\n",
    "def install_package(venv_name, package_name):\n",
    "    try:\n",
    "        subprocess.run([os.path.join(venv_name, 'Scripts' if os.name == 'nt' else 'bin', 'pip'), 'install', package_name], check=True)\n",
    "        print(f\"Package '{package_name}' installed in '{venv_name}'.\")\n",
    "    except subprocess.CalledProcessError:\n",
    "        print(f\"Error installing '{package_name}' in '{venv_name}'.\")\n",
    "\n",
    "def list_installed_packages(venv_name):\n",
    "    try:\n",
    "        result = subprocess.run([os.path.join(venv_name, 'Scripts' if os.name == 'nt' else 'bin', 'pip'), 'list'], stdout=subprocess.PIPE, text=True, check=True)\n",
    "        print(f\"Installed packages in '{venv_name}':\")\n",
    "        print(result.stdout)\n",
    "    except subprocess.CalledProcessError:\n",
    "        print(f\"Error listing installed packages in '{venv_name}'.\")\n",
    "\n",
    "# Call the functions directly without the if __name__ block\n",
    "venv_name = \"my_virtual_env\"\n",
    "create_virtual_environment(venv_name)\n",
    "activate_virtual_environment(venv_name)\n",
    "install_package(venv_name, \"requests\")\n",
    "list_installed_packages(venv_name)\n",
    "deactivate_virtual_environment()\n"
   ]
  },
  {
   "cell_type": "markdown",
   "id": "e81a6710",
   "metadata": {},
   "source": [
    "# Scenario: You are developing a Python application that relies on third-party packages. Managing dependencies and ensuring compatibility is crucial for your project's success.Design a Python program that demonstrates the following:\n",
    "\n",
    "1. Use a requirements.txt file to specify project dependencies.\n",
    "\n",
    "2. Automatically install all project dependencies from the requirements.txt file.\n",
    "\n",
    "3. Ensure that the versions of installed packages are compatible.\n",
    "\n",
    "4. Implement error handling for dependency resolution and installation."
   ]
  },
  {
   "cell_type": "code",
   "execution_count": null,
   "id": "ed142345",
   "metadata": {},
   "outputs": [],
   "source": []
  },
  {
   "cell_type": "markdown",
   "id": "8bcf105d",
   "metadata": {},
   "source": [
    "# Scenario: You are developing a Python application that relies on third-party packages. Managing dependencies and ensuring compatibility is crucial for your project's success.\n",
    "\n",
    "Design a Python program that demonstrates the following:\n",
    "\n",
    "1. Use a requirements.txt file to specify project dependencies.\n",
    "\n",
    "2. Automatically install all project dependencies from the requirements.txt file.\n",
    "\n",
    "3. Ensure that the versions of installed packages are compatible.\n",
    "\n",
    "4. Implement error handling for dependency resolution and installation."
   ]
  },
  {
   "cell_type": "code",
   "execution_count": null,
   "id": "22d94905",
   "metadata": {},
   "outputs": [],
   "source": [
    "import subprocess\n",
    "\n",
    "def install_dependencies():\n",
    "    try:\n",
    "        # Install dependencies from the requirements.txt file\n",
    "        subprocess.run(['pip', 'install', '-r', 'requirements.txt'], check=True)\n",
    "        print(\"Dependencies installed successfully.\")\n",
    "    except subprocess.CalledProcessError:\n",
    "        print(\"Error installing dependencies.\")\n",
    "\n",
    "# Call the function to install project dependencies\n",
    "install_dependencies()\n"
   ]
  },
  {
   "cell_type": "markdown",
   "id": "0d8d8366",
   "metadata": {},
   "source": [
    "# 2. Customer Order Processing Scenario: You are building a customer order processing system for an e-commerce company. The system needs to interact with a MySQL database to store customer orders, products, and order details.\n",
    "\n",
    "1. Design a MySQL database schema for the order processing system, including tables for\n",
    "customers, products, and orders.\n",
    "2. Write a Python program that connects to the database and allows customers to place\n",
    "new orders.\n",
    "3. Implement a feature that calculates the total cost of an order and updates product\n",
    "quantities in the database.\n",
    "4. How would you handle cases where a product is no longer available when a customer\n",
    "places an order?\n",
    "5. Develop a function to generate order reports for the company's finance department."
   ]
  },
  {
   "cell_type": "code",
   "execution_count": 7,
   "id": "5afa2442",
   "metadata": {},
   "outputs": [
    {
     "name": "stdout",
     "output_type": "stream",
     "text": [
      "Order placed successfully.\n",
      "Order report saved to order_report.txt\n"
     ]
    }
   ],
   "source": [
    "import mysql.connector\n",
    "\n",
    "# Connect to the MySQL database\n",
    "db = mysql.connector.connect(\n",
    "    host=\"127.0.0.1\",\n",
    "    user=\"root\",\n",
    "    password=\"Pritam@123\",\n",
    "    database=\"customerorders\"\n",
    ")\n",
    "\n",
    "cursor = db.cursor()\n",
    "\n",
    "# Define the database schema and create tables (same as before)\n",
    "\n",
    "# Function to insert sample customers into the Customers table (same as before)\n",
    "\n",
    "# Function to place an order\n",
    "def place_order(customer_id, product_id, quantity):\n",
    "    try:\n",
    "        # Check product availability (same as before)\n",
    "        \n",
    "        # Calculate order total (using the retrieved unit_price)\n",
    "        cursor.execute(\"SELECT unit_price FROM Products WHERE product_id = %s\", (product_id,))\n",
    "        unit_price = cursor.fetchone()[0]\n",
    "        total_cost = unit_price * quantity\n",
    "        \n",
    "        # Insert order into Orders table\n",
    "        cursor.execute(\"INSERT INTO Orders (customer_id, order_date, total_cost) VALUES (%s, CURDATE(), %s)\", (customer_id, total_cost))\n",
    "        order_id = cursor.lastrowid\n",
    "        \n",
    "        # Insert order details into OrderDetails table\n",
    "        cursor.execute(\"INSERT INTO OrderDetails (order_id, product_id, quantity_ordered) VALUES (%s, %s, %s)\", (order_id, product_id, quantity))\n",
    "        \n",
    "        # Update product quantity (same as before)\n",
    "        \n",
    "        db.commit()\n",
    "        print(\"Order placed successfully.\")\n",
    "    \n",
    "    except Exception as e:\n",
    "        db.rollback()\n",
    "        print(f\"An error occurred: {e}\")\n",
    "\n",
    "# Function to generate and save a detailed order report to a file\n",
    "def generate_and_save_order_report():\n",
    "    try:\n",
    "        cursor.execute(\"\"\"\n",
    "            SELECT Orders.order_id, Customers.customer_name, Customers.customer_email, Orders.order_date, \n",
    "                   Products.product_name, OrderDetails.quantity_ordered, Products.unit_price, Orders.total_cost\n",
    "            FROM Orders\n",
    "            JOIN Customers ON Orders.customer_id = Customers.customer_id\n",
    "            JOIN OrderDetails ON Orders.order_id = OrderDetails.order_id\n",
    "            JOIN Products ON OrderDetails.product_id = Products.product_id\n",
    "        \"\"\")\n",
    "        \n",
    "        # Fetch and format the data for the report\n",
    "        report_content = \"Order ID | Customer Name | Customer Email | Order Date | Product Name | Quantity Ordered | Unit Price | Total Cost\\n\"\n",
    "        for row in cursor.fetchall():\n",
    "            report_content += \" | \".join(map(str, row)) + \"\\n\"\n",
    "        \n",
    "        # Save the report to a file\n",
    "        with open(\"order_report.txt\", \"w\") as report_file:\n",
    "            report_file.write(report_content)\n",
    "        \n",
    "        print(\"Order report saved to order_report.txt\")\n",
    "    \n",
    "    except Exception as e:\n",
    "        print(f\"An error occurred: {e}\")\n",
    "\n",
    "# Example usage\n",
    "insert_sample_products()\n",
    "insert_sample_customers()\n",
    "place_order(1, 1, 3)  # Place an order for customer_id=1, product_id=1, quantity=3\n",
    "generate_and_save_order_report()\n",
    "\n",
    "# Close the database connection\n",
    "cursor.close()\n",
    "db.close()"
   ]
  },
  {
   "cell_type": "code",
   "execution_count": null,
   "id": "0797ae8f",
   "metadata": {},
   "outputs": [],
   "source": []
  }
 ],
 "metadata": {
  "kernelspec": {
   "display_name": "Python 3 (ipykernel)",
   "language": "python",
   "name": "python3"
  },
  "language_info": {
   "codemirror_mode": {
    "name": "ipython",
    "version": 3
   },
   "file_extension": ".py",
   "mimetype": "text/x-python",
   "name": "python",
   "nbconvert_exporter": "python",
   "pygments_lexer": "ipython3",
   "version": "3.11.4"
  }
 },
 "nbformat": 4,
 "nbformat_minor": 5
}
