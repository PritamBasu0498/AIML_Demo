{
 "cells": [
  {
   "cell_type": "markdown",
   "id": "80386abf",
   "metadata": {},
   "source": [
    "# 1. Manipulate using a list.\n",
    "\n",
    "i) To add new elements to the end of the list\n",
    "\n",
    "ii) To reverse elements in the list\n",
    "\n",
    "iii) To display the same list of elements multiple times.\n",
    "\n",
    "iv) To concatenate two list\n",
    "\n",
    "v) To sort the elements in the list in ascending order."
   ]
  },
  {
   "cell_type": "code",
   "execution_count": 11,
   "id": "15ffcda4",
   "metadata": {},
   "outputs": [
    {
     "name": "stdout",
     "output_type": "stream",
     "text": [
      "Added elements in [1, 2, 3, 4]\n"
     ]
    }
   ],
   "source": [
    "#To add new elements to the end of the list\n",
    "\n",
    "myList = [1, 2, 3]\n",
    "myList.append(4)\n",
    "print(\"Added elements in {}\".format(myList))\n"
   ]
  },
  {
   "cell_type": "code",
   "execution_count": 7,
   "id": "69bb71f1",
   "metadata": {},
   "outputs": [
    {
     "name": "stdout",
     "output_type": "stream",
     "text": [
      "Reversed list is :  [6, 5, 4, 3, 2, 1]\n"
     ]
    }
   ],
   "source": [
    "#To reverse elements in the list\n",
    "\n",
    "myList = [1,2,3,4,5,6]\n",
    "myList.reverse()\n",
    "print(\"Reversed list is : \", myList)"
   ]
  },
  {
   "cell_type": "code",
   "execution_count": 10,
   "id": "180cdb78",
   "metadata": {},
   "outputs": [
    {
     "name": "stdout",
     "output_type": "stream",
     "text": [
      "[1, 2, 3, 1, 2, 3, 1, 2, 3]\n",
      "[1, 2, 3]\n",
      "[1, 2, 3]\n",
      "[1, 2, 3]\n"
     ]
    }
   ],
   "source": [
    "#Todisplay the same list of elements multiple times\n",
    "\n",
    "myList = [1,2,3]\n",
    "repeat = 3\n",
    "\n",
    "newList = myList * repeat\n",
    "print(newList)\n",
    "\n",
    "for i in range(repeat):\n",
    "    print(myList)"
   ]
  },
  {
   "cell_type": "code",
   "execution_count": 13,
   "id": "8acabea3",
   "metadata": {},
   "outputs": [
    {
     "name": "stdout",
     "output_type": "stream",
     "text": [
      "Added list:  [1, 2, 3, 4, 5, 6]\n"
     ]
    }
   ],
   "source": [
    "#To concatenate two list\n",
    "\n",
    "list1 = [1, 2, 3]\n",
    "list2 = [4, 5, 6]\n",
    "list1.extend(list2)\n",
    "print(\"Added list: \", list1)\n"
   ]
  },
  {
   "cell_type": "code",
   "execution_count": 14,
   "id": "c6a2d32c",
   "metadata": {},
   "outputs": [
    {
     "name": "stdout",
     "output_type": "stream",
     "text": [
      "Sorted list: [1, 3, 4, 5, 26, 51, 69, 90, 92, 100, 390]\n"
     ]
    }
   ],
   "source": [
    "#To sort the elements in the list in ascending order.\n",
    "\n",
    "my_list = [390, 100, 4, 1, 5, 92, 26, 69, 51, 3, 90]\n",
    "my_list.sort()\n",
    "print(\"Sorted list:\", my_list)\n"
   ]
  },
  {
   "cell_type": "markdown",
   "id": "518e1b1d",
   "metadata": {},
   "source": [
    "# 2. Write a Python program to do in the tuples.\n",
    "\n",
    "i) Manipulate using tuples.\n",
    "\n",
    "ii) To add new elements to the end of the tuples\n",
    "\n",
    "iii) To reverse elements in the list\n",
    "\n",
    "iv) To display the elements of the same tuple multiple times.\n",
    "\n",
    "v) To concatenate two tuples\n",
    "\n",
    "vi) To sort the elements in the list in ascending order."
   ]
  },
  {
   "cell_type": "code",
   "execution_count": null,
   "id": "c0023dce",
   "metadata": {},
   "outputs": [],
   "source": [
    "#i) Manipulate using tuples.\n",
    "\n",
    "#Tuples are similar to lists in Python but are immutable, meaning we cannot modify their elements once they are created.\n"
   ]
  },
  {
   "cell_type": "code",
   "execution_count": 15,
   "id": "32cf3f10",
   "metadata": {},
   "outputs": [
    {
     "name": "stdout",
     "output_type": "stream",
     "text": [
      "Original Tuple: (1, 2, 3)\n",
      "Extended Tuple: (1, 2, 3, 4, 5, 6)\n"
     ]
    }
   ],
   "source": [
    "#ii) To add new elements to the end of the tuples\n",
    "\n",
    "my_tuple = (1, 2, 3)\n",
    "new_elements = (4, 5, 6)\n",
    "extended_tuple = my_tuple + new_elements\n",
    "\n",
    "print(\"Original Tuple:\", my_tuple)\n",
    "print(\"Extended Tuple:\", extended_tuple)\n"
   ]
  },
  {
   "cell_type": "code",
   "execution_count": 16,
   "id": "4811e215",
   "metadata": {},
   "outputs": [
    {
     "name": "stdout",
     "output_type": "stream",
     "text": [
      "Reversed list: [5, 4, 3, 2, 1]\n"
     ]
    }
   ],
   "source": [
    "#To reverse elements in the list\n",
    "\n",
    "my_list = [1, 2, 3, 4, 5]\n",
    "my_list.reverse()\n",
    "print(\"Reversed list:\", my_list)\n"
   ]
  },
  {
   "cell_type": "code",
   "execution_count": 18,
   "id": "127ae3c0",
   "metadata": {},
   "outputs": [
    {
     "name": "stdout",
     "output_type": "stream",
     "text": [
      "Elements of the tuple: (1, 2, 3)\n",
      "Elements of the tuple: (1, 2, 3)\n",
      "Elements of the tuple: (1, 2, 3)\n"
     ]
    }
   ],
   "source": [
    "#To display the elements of the same tuple multiple times.\n",
    "\n",
    "myTuple = (1, 2, 3)\n",
    "repeat = 3\n",
    "\n",
    "for i in range(repeat):\n",
    "    print(\"Elements of the tuple:\", myTuple)\n"
   ]
  },
  {
   "cell_type": "code",
   "execution_count": 17,
   "id": "110faddb",
   "metadata": {},
   "outputs": [
    {
     "name": "stdout",
     "output_type": "stream",
     "text": [
      "Concatenated Tuple: (1, 2, 3, 4, 5, 6)\n"
     ]
    }
   ],
   "source": [
    "#To concatenate two tuples\n",
    "\n",
    "tuple1 = (1, 2, 3)\n",
    "tuple2 = (4, 5, 6)\n",
    "concatenated_tuple = tuple1 + tuple2\n",
    "print(\"Concatenated Tuple:\", concatenated_tuple)\n"
   ]
  },
  {
   "cell_type": "code",
   "execution_count": 19,
   "id": "b5f5cd67",
   "metadata": {},
   "outputs": [
    {
     "name": "stdout",
     "output_type": "stream",
     "text": [
      "Sorted list: [3, 10, 14, 57, 61]\n"
     ]
    }
   ],
   "source": [
    "#To sort the elements in the list in ascending order.\n",
    "\n",
    "myList = [3, 10, 14, 61, 57]\n",
    "myList.sort()\n",
    "print(\"Sorted list:\", myList)\n"
   ]
  },
  {
   "cell_type": "markdown",
   "id": "e03983ec",
   "metadata": {},
   "source": [
    "# 3. Write a python program to implement the following using list.\n",
    "\n",
    "i) Create a list with integers (minimum 10 numbers)\n",
    "\n",
    "ii) How to display the last number in the list\n",
    "\n",
    "iii) Command for displaying the values from the list [0:4]\n",
    "\n",
    "iv) Command for displaying the values from the list [2:]\n",
    "\n",
    "v) Command for displaying the values from the list[:6]"
   ]
  },
  {
   "cell_type": "code",
   "execution_count": 20,
   "id": "d003e528",
   "metadata": {},
   "outputs": [
    {
     "data": {
      "text/plain": [
       "[1, 2, 3, 4, 5, 6, 7, 8, 9, 10]"
      ]
     },
     "execution_count": 20,
     "metadata": {},
     "output_type": "execute_result"
    }
   ],
   "source": [
    "#Create a list with integers (minimum 10 numbers)\n",
    "\n",
    "myList = [1, 2, 3, 4, 5, 6, 7, 8, 9, 10]\n",
    "myList"
   ]
  },
  {
   "cell_type": "code",
   "execution_count": 22,
   "id": "cd19aec1",
   "metadata": {},
   "outputs": [
    {
     "data": {
      "text/plain": [
       "10"
      ]
     },
     "execution_count": 22,
     "metadata": {},
     "output_type": "execute_result"
    }
   ],
   "source": [
    "#How to display the last number in the list\n",
    "\n",
    "myList = [1, 2, 3, 4, 5, 6, 7, 8, 9, 10]\n",
    "lastNum = myList[-1]\n",
    "lastNum\n"
   ]
  },
  {
   "cell_type": "code",
   "execution_count": 23,
   "id": "14171742",
   "metadata": {},
   "outputs": [
    {
     "data": {
      "text/plain": [
       "[1, 2, 3, 4]"
      ]
     },
     "execution_count": 23,
     "metadata": {},
     "output_type": "execute_result"
    }
   ],
   "source": [
    "#Command for displaying the values from the list [0:4]\n",
    "\n",
    "myList[0:4]"
   ]
  },
  {
   "cell_type": "code",
   "execution_count": 24,
   "id": "2b9e6d04",
   "metadata": {},
   "outputs": [
    {
     "data": {
      "text/plain": [
       "[3, 4, 5, 6, 7, 8, 9, 10]"
      ]
     },
     "execution_count": 24,
     "metadata": {},
     "output_type": "execute_result"
    }
   ],
   "source": [
    "#Command for displaying the values from the list [2:]\n",
    "\n",
    "myList[2:]"
   ]
  },
  {
   "cell_type": "code",
   "execution_count": 25,
   "id": "04260443",
   "metadata": {},
   "outputs": [
    {
     "data": {
      "text/plain": [
       "[1, 2, 3, 4, 5, 6]"
      ]
     },
     "execution_count": 25,
     "metadata": {},
     "output_type": "execute_result"
    }
   ],
   "source": [
    "#Command for displaying the values from the list[:6]\n",
    "\n",
    "myList[:6]"
   ]
  },
  {
   "cell_type": "markdown",
   "id": "35d42be4",
   "metadata": {},
   "source": [
    "# 4. Write a Python program: tuple1 = (10,50,20,40,30)\n",
    "\n",
    "i. To display the elements 10 and 50 from tuple1\n",
    "\n",
    "ii. To display the length of a tuple1.\n",
    "\n",
    "iii. To find the minimum element from tuple1.\n",
    "\n",
    "iv. To add all elements in the tuple1.\n",
    "\n",
    "v. To display the same tuple1 multiple times."
   ]
  },
  {
   "cell_type": "code",
   "execution_count": 29,
   "id": "eea5310f",
   "metadata": {},
   "outputs": [
    {
     "name": "stdout",
     "output_type": "stream",
     "text": [
      "10\n",
      "50\n",
      "20\n",
      "40\n",
      "30\n"
     ]
    }
   ],
   "source": [
    "#To display the elements 10 and 50 from tuple1\n",
    "\n",
    "tuple1 = (10,50,20,40,30)\n",
    "\n",
    "for element in tuple1:\n",
    "    print(element)\n"
   ]
  },
  {
   "cell_type": "code",
   "execution_count": 32,
   "id": "00feb299",
   "metadata": {},
   "outputs": [
    {
     "data": {
      "text/plain": [
       "5"
      ]
     },
     "execution_count": 32,
     "metadata": {},
     "output_type": "execute_result"
    }
   ],
   "source": [
    "#To display the length of a tuple1.\n",
    "\n",
    "length = len(tuple1)\n",
    "length"
   ]
  },
  {
   "cell_type": "code",
   "execution_count": 33,
   "id": "cf0af103",
   "metadata": {},
   "outputs": [
    {
     "data": {
      "text/plain": [
       "10"
      ]
     },
     "execution_count": 33,
     "metadata": {},
     "output_type": "execute_result"
    }
   ],
   "source": [
    "#To find the minimum element from tuple1.\n",
    "\n",
    "minElement = min(tuple1)\n",
    "minElement"
   ]
  },
  {
   "cell_type": "code",
   "execution_count": 47,
   "id": "a7e4ec70",
   "metadata": {},
   "outputs": [
    {
     "data": {
      "text/plain": [
       "150"
      ]
     },
     "execution_count": 47,
     "metadata": {},
     "output_type": "execute_result"
    }
   ],
   "source": [
    "#To add all elements in the tuple1.\n",
    "\n",
    "totSum=0\n",
    "for element in tuple1:\n",
    "    totSum+=element\n",
    "totSum\n"
   ]
  },
  {
   "cell_type": "code",
   "execution_count": 48,
   "id": "adaeaee9",
   "metadata": {},
   "outputs": [
    {
     "name": "stdout",
     "output_type": "stream",
     "text": [
      "Elements of the tuple: (10, 50, 20, 40, 30)\n",
      "Elements of the tuple: (10, 50, 20, 40, 30)\n",
      "Elements of the tuple: (10, 50, 20, 40, 30)\n"
     ]
    }
   ],
   "source": [
    "#To display the same tuple1 multiple times.\n",
    "\n",
    "repeat = 3\n",
    "\n",
    "for i in range(repeat):\n",
    "    print(\"Elements of the tuple:\", tuple1)\n"
   ]
  },
  {
   "cell_type": "markdown",
   "id": "354a00c1",
   "metadata": {},
   "source": [
    "# 5. Write a Python program:\n",
    "\n",
    "i. To calculate the length of a string\n",
    "\n",
    "ii. To reverse words in a string\n",
    "\n",
    "iii. To display the same string multiple times\n",
    "\n",
    "iv. To concatenate two strings\n",
    "\n",
    "v. Str1=” South India”, using string slicing to display “India”"
   ]
  },
  {
   "cell_type": "code",
   "execution_count": 50,
   "id": "e9da2625",
   "metadata": {},
   "outputs": [
    {
     "data": {
      "text/plain": [
       "13"
      ]
     },
     "execution_count": 50,
     "metadata": {},
     "output_type": "execute_result"
    }
   ],
   "source": [
    "myString = \"Hello, World!\"\n",
    "length = len(myString)\n",
    "length\n"
   ]
  },
  {
   "cell_type": "code",
   "execution_count": 55,
   "id": "4870c955",
   "metadata": {},
   "outputs": [
    {
     "data": {
      "text/plain": [
       "'World! Hello,'"
      ]
     },
     "execution_count": 55,
     "metadata": {},
     "output_type": "execute_result"
    }
   ],
   "source": [
    "myString = \"Hello, World!\"\n",
    "words = myString.split()\n",
    "reversedString = ' '.join(reversed(words))\n",
    "reversedString"
   ]
  },
  {
   "cell_type": "code",
   "execution_count": 56,
   "id": "a16d2066",
   "metadata": {},
   "outputs": [
    {
     "name": "stdout",
     "output_type": "stream",
     "text": [
      "Hello, World!\n",
      "Hello, World!\n",
      "Hello, World!\n"
     ]
    }
   ],
   "source": [
    "repeat = 3\n",
    "for i in range(repeat):\n",
    "    print(myString)\n"
   ]
  },
  {
   "cell_type": "code",
   "execution_count": 58,
   "id": "9e545cfe",
   "metadata": {},
   "outputs": [
    {
     "data": {
      "text/plain": [
       "'Hello, World!'"
      ]
     },
     "execution_count": 58,
     "metadata": {},
     "output_type": "execute_result"
    }
   ],
   "source": [
    "string1 = \"Hello, \"\n",
    "string2 = \"World!\"\n",
    "concatenatedString = string1 + string2\n",
    "concatenatedString\n"
   ]
  },
  {
   "cell_type": "code",
   "execution_count": 66,
   "id": "1a0c9bb9",
   "metadata": {},
   "outputs": [
    {
     "data": {
      "text/plain": [
       "'India'"
      ]
     },
     "execution_count": 66,
     "metadata": {},
     "output_type": "execute_result"
    }
   ],
   "source": [
    "Str1 = \" South India\"\n",
    "Str2 = Str1[7:]\n",
    "Str2\n"
   ]
  },
  {
   "cell_type": "markdown",
   "id": "c6917b1c",
   "metadata": {},
   "source": [
    "# 6. Perform the following:\n",
    "\n",
    "i) Creating the Dictionary.\n",
    "\n",
    "ii) Accessing values and keys in the Dictionary.\n",
    "\n",
    "iii) Updating the dictionary using a function.\n",
    "\n",
    "iv) Clear and delete the dictionary values."
   ]
  },
  {
   "cell_type": "code",
   "execution_count": 8,
   "id": "1a8f336c",
   "metadata": {},
   "outputs": [
    {
     "data": {
      "text/plain": [
       "{'name': 'John', 'age': 30, 'city': 'New York'}"
      ]
     },
     "execution_count": 8,
     "metadata": {},
     "output_type": "execute_result"
    }
   ],
   "source": [
    "#i) Creating the Dictionary.\n",
    "\n",
    "myDict = {'name': 'John', 'age': 30, 'city': 'New York'}\n",
    "myDict"
   ]
  },
  {
   "cell_type": "code",
   "execution_count": 15,
   "id": "25c59ac9",
   "metadata": {},
   "outputs": [
    {
     "name": "stdout",
     "output_type": "stream",
     "text": [
      "name age city \n",
      "Rajesh 30 Pune "
     ]
    }
   ],
   "source": [
    "#ii) Accessing values and keys in the Dictionary.\n",
    "\n",
    "myDictNew = {'name': 'Rajesh', 'age': 30, 'city': 'Pune'}\n",
    "for key in my_dict:\n",
    "    print(key, end=' ')\n",
    "print()  \n",
    "for value in myDictNew.values():\n",
    "    print(value, end=' ')\n",
    "\n"
   ]
  },
  {
   "cell_type": "code",
   "execution_count": 17,
   "id": "5cdd1bf8",
   "metadata": {},
   "outputs": [
    {
     "data": {
      "text/plain": [
       "{'name': 'Ron', 'age': 31, 'city': 'Seattle', 'new_key': 'new_value'}"
      ]
     },
     "execution_count": 17,
     "metadata": {},
     "output_type": "execute_result"
    }
   ],
   "source": [
    "#iii) Updating the dictionary using a function.\n",
    "\n",
    "Dict = {'name': 'Ron', 'age': 23, 'city': 'Seattle'}\n",
    "Dict['new_key'] = 'new_value'\n",
    "Dict['age'] = 31 \n",
    "\n",
    "Dict\n"
   ]
  },
  {
   "cell_type": "code",
   "execution_count": 20,
   "id": "643a1c05",
   "metadata": {},
   "outputs": [
    {
     "data": {
      "text/plain": [
       "{}"
      ]
     },
     "execution_count": 20,
     "metadata": {},
     "output_type": "execute_result"
    }
   ],
   "source": [
    "#iv) Clear and delete the dictionary values.\n",
    "\n",
    "Dict1 = {'name': 'Harry', 'age': 50, 'city': 'Sussex'}\n",
    "Dict1.clear()\n",
    "Dict1\n"
   ]
  },
  {
   "cell_type": "markdown",
   "id": "19b7ace4",
   "metadata": {},
   "source": [
    "# 7. Python program to insert a number to any position in a list."
   ]
  },
  {
   "cell_type": "code",
   "execution_count": 7,
   "id": "3326cc84",
   "metadata": {},
   "outputs": [
    {
     "name": "stdout",
     "output_type": "stream",
     "text": [
      "Updated List: [1, 2, 3, 5, 6]\n"
     ]
    }
   ],
   "source": [
    "myList = [1, 2, 3, 5, 6]\n",
    "Number = 4\n",
    "position = 3  # The position where you want to insert the number\n",
    "\n",
    "my_list.insert(position,number)\n",
    "print(\"Updated List:\", myList)\n"
   ]
  },
  {
   "cell_type": "markdown",
   "id": "f223c545",
   "metadata": {},
   "source": [
    "# 8. Python program to delete an element from a list by index."
   ]
  },
  {
   "cell_type": "code",
   "execution_count": 6,
   "id": "2358b884",
   "metadata": {},
   "outputs": [
    {
     "name": "stdout",
     "output_type": "stream",
     "text": [
      "Updated List: [1, 2, 4, 5]\n"
     ]
    }
   ],
   "source": [
    "myList = [1, 2, 3, 4, 5]\n",
    "deletedIndex = 2  \n",
    "\n",
    "if 0 <= deletedIndex < len(myList):\n",
    "    del myList[deletedIndex]\n",
    "    print(\"Updated List:\", myList)\n",
    "else:\n",
    "    print(\"Index is out of range\")\n"
   ]
  },
  {
   "cell_type": "markdown",
   "id": "0ef091e7",
   "metadata": {},
   "source": [
    "# 9. Write a program to display a number from 1 to 100."
   ]
  },
  {
   "cell_type": "code",
   "execution_count": 3,
   "id": "e29e3b9f",
   "metadata": {},
   "outputs": [
    {
     "name": "stdout",
     "output_type": "stream",
     "text": [
      "1\n",
      "2\n",
      "3\n",
      "4\n",
      "5\n",
      "6\n",
      "7\n",
      "8\n",
      "9\n",
      "10\n",
      "11\n",
      "12\n",
      "13\n",
      "14\n",
      "15\n",
      "16\n",
      "17\n",
      "18\n",
      "19\n",
      "20\n",
      "21\n",
      "22\n",
      "23\n",
      "24\n",
      "25\n",
      "26\n",
      "27\n",
      "28\n",
      "29\n",
      "30\n",
      "31\n",
      "32\n",
      "33\n",
      "34\n",
      "35\n",
      "36\n",
      "37\n",
      "38\n",
      "39\n",
      "40\n",
      "41\n",
      "42\n",
      "43\n",
      "44\n",
      "45\n",
      "46\n",
      "47\n",
      "48\n",
      "49\n",
      "50\n",
      "51\n",
      "52\n",
      "53\n",
      "54\n",
      "55\n",
      "56\n",
      "57\n",
      "58\n",
      "59\n",
      "60\n",
      "61\n",
      "62\n",
      "63\n",
      "64\n",
      "65\n",
      "66\n",
      "67\n",
      "68\n",
      "69\n",
      "70\n",
      "71\n",
      "72\n",
      "73\n",
      "74\n",
      "75\n",
      "76\n",
      "77\n",
      "78\n",
      "79\n",
      "80\n",
      "81\n",
      "82\n",
      "83\n",
      "84\n",
      "85\n",
      "86\n",
      "87\n",
      "88\n",
      "89\n",
      "90\n",
      "91\n",
      "92\n",
      "93\n",
      "94\n",
      "95\n",
      "96\n",
      "97\n",
      "98\n",
      "99\n",
      "100\n"
     ]
    }
   ],
   "source": [
    "for number in range(1, 101):\n",
    "    print(number)\n"
   ]
  },
  {
   "cell_type": "markdown",
   "id": "85dcc7df",
   "metadata": {},
   "source": [
    "# 10. Write a Python program to find the sum of all items in a tuple"
   ]
  },
  {
   "cell_type": "code",
   "execution_count": 5,
   "id": "bccda123",
   "metadata": {},
   "outputs": [
    {
     "name": "stdout",
     "output_type": "stream",
     "text": [
      "Sum of all items in the tuple: 15\n"
     ]
    }
   ],
   "source": [
    "myTuple = (1, 2, 3, 4, 5)\n",
    "\n",
    "totalSum = 0  \n",
    "\n",
    "for item in myTuple:\n",
    "    totalSum += item\n",
    "\n",
    "print(\"Sum of all items in the tuple:\", totalSum)\n"
   ]
  },
  {
   "cell_type": "code",
   "execution_count": null,
   "id": "7accc2bd",
   "metadata": {},
   "outputs": [],
   "source": []
  }
 ],
 "metadata": {
  "kernelspec": {
   "display_name": "Python 3 (ipykernel)",
   "language": "python",
   "name": "python3"
  },
  "language_info": {
   "codemirror_mode": {
    "name": "ipython",
    "version": 3
   },
   "file_extension": ".py",
   "mimetype": "text/x-python",
   "name": "python",
   "nbconvert_exporter": "python",
   "pygments_lexer": "ipython3",
   "version": "3.11.4"
  }
 },
 "nbformat": 4,
 "nbformat_minor": 5
}
