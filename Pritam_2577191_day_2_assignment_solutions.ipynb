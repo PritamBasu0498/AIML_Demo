{
 "cells": [
  {
   "cell_type": "markdown",
   "id": "354c831a",
   "metadata": {},
   "source": [
    "# 1.Write a python Function to list even and odd numbers in a list."
   ]
  },
  {
   "cell_type": "code",
   "execution_count": 14,
   "id": "0e2f7a10",
   "metadata": {},
   "outputs": [
    {
     "name": "stdout",
     "output_type": "stream",
     "text": [
      "Even numbers: [2, 4, 6, 8]\n",
      "Odd numbers: [1, 3, 5, 7, 9]\n"
     ]
    }
   ],
   "source": [
    "def separate_even_odd(numbers):\n",
    "    even_numbers = []\n",
    "    odd_numbers = []\n",
    "    for num in numbers:\n",
    "        if num % 2 == 0:\n",
    "            even_numbers.append(num)\n",
    "        else:\n",
    "            odd_numbers.append(num)\n",
    "    return even_numbers, odd_numbers\n",
    "\n",
    "\n",
    "numbers = [1, 2, 3, 4, 5, 6, 7, 8, 9]\n",
    "even, odd = separate_even_odd(numbers)\n",
    "print(\"Even numbers:\", even)\n",
    "print(\"Odd numbers:\", odd)\n"
   ]
  },
  {
   "cell_type": "markdown",
   "id": "3f5a8729",
   "metadata": {},
   "source": [
    "# 2. Write and run a Python program that asks the user to enter 8 integers (one at a time), and thenprints out how many of those integers were even numbers. For example, if the user entered 19,6, 9, 20, 13, 7, 6, and 1, then your program should print out 3 since 3 of those numbers were even."
   ]
  },
  {
   "cell_type": "code",
   "execution_count": 16,
   "id": "9bcd70b6",
   "metadata": {},
   "outputs": [
    {
     "name": "stdout",
     "output_type": "stream",
     "text": [
      "Enter integer 1: 19\n",
      "Enter integer 2: 6\n",
      "Enter integer 3: 9\n",
      "Enter integer 4: 20\n",
      "Enter integer 5: 13\n",
      "Enter integer 6: 7\n",
      "Enter integer 7: 6\n",
      "Enter integer 8: 1\n",
      "The number of even integers entered is: 3\n"
     ]
    }
   ],
   "source": [
    "even_count = 0\n",
    "\n",
    "for i in range(8):\n",
    "    try:\n",
    "        num = int(input(f\"Enter integer {i + 1}: \"))\n",
    "        if num % 2 == 0:\n",
    "            even_count += 1\n",
    "    except ValueError:\n",
    "        print(\"Invalid input. Please enter an integer.\")\n",
    "print(f\"The number of even integers entered is: {even_count}\")\n"
   ]
  },
  {
   "cell_type": "markdown",
   "id": "b2936f63",
   "metadata": {},
   "source": [
    "# 3. Write a Python program where you take any positive integer n, if n is even, divide it by 2 to get n /\n",
    "\n",
    "2. If n is odd, multiply it by 3 and add 1 to obtain 3n + 1. Repeat the process until you reach 1."
   ]
  },
  {
   "cell_type": "code",
   "execution_count": 23,
   "id": "4c8d286c",
   "metadata": {},
   "outputs": [
    {
     "name": "stdout",
     "output_type": "stream",
     "text": [
      "Enter a positive integer: 10\n",
      "10 5 16 8 4 2 1\n"
     ]
    }
   ],
   "source": [
    "def func(n):\n",
    "    while n != 1:\n",
    "        print(n, end=' ')\n",
    "        if n % 2 == 0:\n",
    "            n = n // 2\n",
    "        else:\n",
    "            n = 3 * n + 1\n",
    "    print(1)\n",
    "\n",
    "\n",
    "n = int(input(\"Enter a positive integer: \"))\n",
    "if n <= 0:\n",
    "    print(\"Please enter a positive integer.\")\n",
    "else:\n",
    "    func(n)\n",
    "\n",
    "\n"
   ]
  },
  {
   "cell_type": "markdown",
   "id": "275f76c9",
   "metadata": {},
   "source": [
    "# 4.Write a Python program to compute the sum of all the multiples of 3 or 5 below 500."
   ]
  },
  {
   "cell_type": "code",
   "execution_count": 25,
   "id": "6dc32b30",
   "metadata": {},
   "outputs": [
    {
     "name": "stdout",
     "output_type": "stream",
     "text": [
      "The sum of all multiples of 3 or 5 below 500 is: 57918\n"
     ]
    }
   ],
   "source": [
    "def func1(limit):\n",
    "    total_sum = 0\n",
    "    \n",
    "    for number in range(limit):\n",
    "        if number % 3 == 0 or number % 5 == 0:\n",
    "            total_sum += number\n",
    "    \n",
    "    return total_sum\n",
    "\n",
    "limit = 500\n",
    "result = func1(limit)\n",
    "print(f\"The sum of all multiples of 3 or 5 below {limit} is: {result}\")\n"
   ]
  },
  {
   "cell_type": "markdown",
   "id": "1fcea474",
   "metadata": {},
   "source": [
    "# 5. To write a Python program to find first 'n' prime numbers from a list of given numbers."
   ]
  },
  {
   "cell_type": "code",
   "execution_count": 42,
   "id": "4fff488c",
   "metadata": {},
   "outputs": [
    {
     "name": "stdout",
     "output_type": "stream",
     "text": [
      "Enter the value of 'n' for finding prime numbers: 5\n",
      "The first 5 prime numbers are: [2, 3, 5, 7, 11]\n"
     ]
    }
   ],
   "source": [
    "def isPrime(num):\n",
    "    if num <= 1:\n",
    "        return False\n",
    "    if num <= 3:\n",
    "        return True\n",
    "    if num % 2 == 0 or num % 3 == 0:\n",
    "        return False\n",
    "    i = 5\n",
    "    while i * i <= num:\n",
    "        if num % i == 0 or num % (i + 2) == 0:\n",
    "            return False\n",
    "        i += 6\n",
    "    return True\n",
    "\n",
    "def findNPrimes(n):\n",
    "    prime_list = []\n",
    "    num = 2\n",
    "    while len(prime_list) < n:\n",
    "        if isPrime(num):\n",
    "            prime_list.append(num)\n",
    "        num += 1\n",
    "    return prime_list\n",
    "\n",
    "\n",
    "n = int(input(\"Enter the value of 'n' for finding prime numbers: \"))\n",
    "if n <= 0:\n",
    "    print(\"Please enter a positive integer for 'n'.\")\n",
    "else:\n",
    "    prime_list = findNPrimes(n)\n",
    "    print(f\"The first {n} prime numbers are: {prime_list}\")\n",
    "\n"
   ]
  },
  {
   "cell_type": "markdown",
   "id": "ef4d2d12",
   "metadata": {},
   "source": [
    "# 6. To write a Python program to compute matrix multiplication."
   ]
  },
  {
   "cell_type": "code",
   "execution_count": 41,
   "id": "98cf65a3",
   "metadata": {},
   "outputs": [
    {
     "name": "stdout",
     "output_type": "stream",
     "text": [
      "Matrix Multiplication Result:\n",
      "[58, 64]\n",
      "[139, 154]\n",
      "[220, 244]\n"
     ]
    }
   ],
   "source": [
    "def matrix_multiply(matrix1, matrix2):\n",
    "    if len(matrix1[0]) != len(matrix2):\n",
    "        return \"Matrix multiplication is not possible\"\n",
    "    result = [[0 for i in range(len(matrix2[0]))] for j in range(len(matrix1))]\n",
    "    for i in range(len(matrix1)):\n",
    "        for j in range(len(matrix2[0])):\n",
    "            for k in range(len(matrix2)):\n",
    "                result[i][j] += matrix1[i][k] * matrix2[k][j]\n",
    "    return result\n",
    "\n",
    "matrix_A = [\n",
    "    [1, 2, 3],\n",
    "    [4, 5, 6],\n",
    "    [7,8,9]\n",
    "]\n",
    "\n",
    "matrix_B = [\n",
    "    [7, 8],\n",
    "    [9, 10],\n",
    "    [11, 12]\n",
    "]\n",
    "\n",
    "result_matrix = matrix_multiply(matrix_A, matrix_B)\n",
    "if isinstance(result_matrix, str):\n",
    "    print(result_matrix)\n",
    "else:\n",
    "    print(\"Matrix Multiplication Result:\")\n",
    "    for row in result_matrix:\n",
    "        print(row)\n"
   ]
  },
  {
   "cell_type": "markdown",
   "id": "eb96374d",
   "metadata": {},
   "source": [
    "# 7. Write a python Function to count the number of vowels in a string."
   ]
  },
  {
   "cell_type": "code",
   "execution_count": 29,
   "id": "d137d174",
   "metadata": {},
   "outputs": [
    {
     "name": "stdout",
     "output_type": "stream",
     "text": [
      "Enter a string: He is so good\n",
      "Number of vowels in the string: 5\n"
     ]
    }
   ],
   "source": [
    "def count_vowels(string):\n",
    "    vowels = set(\"AEIOUaeiou\")\n",
    "    count = 0\n",
    "    for char in string:\n",
    "        if char in vowels:\n",
    "            count += 1\n",
    "    return count\n",
    "\n",
    "input_string = input(\"Enter a string: \")\n",
    "vowel_count = count_vowels(input_string)\n",
    "print(\"Number of vowels in the string:\", vowel_count)\n"
   ]
  },
  {
   "cell_type": "markdown",
   "id": "1570d2ca",
   "metadata": {},
   "source": [
    "# 8. Write a python Function for finding factorial for the given number using a recursive function."
   ]
  },
  {
   "cell_type": "code",
   "execution_count": 2,
   "id": "1c0a238a",
   "metadata": {},
   "outputs": [
    {
     "name": "stdout",
     "output_type": "stream",
     "text": [
      "Enter a non-negative integer: 5\n",
      "The factorial of 5 is 120\n"
     ]
    }
   ],
   "source": [
    "def factorial_recursive(n):\n",
    "    if n == 0:\n",
    "        return 1\n",
    "    else:\n",
    "        return n * factorial_recursive(n - 1)\n",
    "\n",
    "# Example usage\n",
    "num = int(input(\"Enter a non-negative integer: \"))\n",
    "\n",
    "if num < 0:\n",
    "    print(\"Factorial is not defined for negative numbers.\")\n",
    "else:\n",
    "    result = factorial_recursive(num)\n",
    "    print(f\"The factorial of {num} is {result}\")\n"
   ]
  },
  {
   "cell_type": "markdown",
   "id": "11df4c33",
   "metadata": {},
   "source": [
    "# 9. Write a python Function for generating the Fibonacci series using the function."
   ]
  },
  {
   "cell_type": "code",
   "execution_count": 4,
   "id": "cef45c83",
   "metadata": {},
   "outputs": [
    {
     "name": "stdout",
     "output_type": "stream",
     "text": [
      "Enter the number of terms for the Fibonacci series: 4\n",
      "Fibonacci Series:\n",
      "[0, 1, 1, 2]\n"
     ]
    }
   ],
   "source": [
    "def fibonacci_recursive(n):\n",
    "    if n <= 0:\n",
    "        return []\n",
    "    elif n == 1:\n",
    "        return [0]\n",
    "    elif n == 2:\n",
    "        return [0, 1]\n",
    "    else:\n",
    "        fib_series = fibonacci_recursive(n - 1)\n",
    "        fib_series.append(fib_series[-1] + fib_series[-2])\n",
    "        return fib_series\n",
    "\n",
    "num_terms = int(input(\"Enter the number of terms for the Fibonacci series: \"))\n",
    "\n",
    "if num_terms <= 0:\n",
    "    print(\"Please enter a positive integer.\")\n",
    "else:\n",
    "    fibonacci_series = fibonacci_recursive(num_terms)\n",
    "    print(\"Fibonacci Series:\")\n",
    "    print(fibonacci_series)\n"
   ]
  },
  {
   "cell_type": "markdown",
   "id": "fd59d5d9",
   "metadata": {},
   "source": [
    "# 10. Python program to display the given integer in reverse order using the function without an in- built function."
   ]
  },
  {
   "cell_type": "code",
   "execution_count": 6,
   "id": "8b61ce5e",
   "metadata": {},
   "outputs": [
    {
     "name": "stdout",
     "output_type": "stream",
     "text": [
      "Enter an integer: -54\n",
      "Reversed integer: -45\n"
     ]
    }
   ],
   "source": [
    "def reverse_integer(n):\n",
    "    is_negative = False\n",
    "    if n < 0:\n",
    "        is_negative = True\n",
    "        n = -n\n",
    "    reversed_num = 0\n",
    "    while n > 0:\n",
    "        digit = n % 10\n",
    "        reversed_num = reversed_num * 10 + digit\n",
    "        n //= 10\n",
    "    if is_negative:\n",
    "        reversed_num = -reversed_num\n",
    "\n",
    "    return reversed_num\n",
    "\n",
    "\n",
    "num = int(input(\"Enter an integer: \"))\n",
    "reversed_num = reverse_integer(num)\n",
    "print(f\"Reversed integer: {reversed_num}\")\n"
   ]
  },
  {
   "cell_type": "code",
   "execution_count": null,
   "id": "971b47e7",
   "metadata": {},
   "outputs": [],
   "source": []
  },
  {
   "cell_type": "code",
   "execution_count": null,
   "id": "8d7015f2",
   "metadata": {},
   "outputs": [],
   "source": []
  }
 ],
 "metadata": {
  "kernelspec": {
   "display_name": "Python 3 (ipykernel)",
   "language": "python",
   "name": "python3"
  },
  "language_info": {
   "codemirror_mode": {
    "name": "ipython",
    "version": 3
   },
   "file_extension": ".py",
   "mimetype": "text/x-python",
   "name": "python",
   "nbconvert_exporter": "python",
   "pygments_lexer": "ipython3",
   "version": "3.11.4"
  }
 },
 "nbformat": 4,
 "nbformat_minor": 5
}
